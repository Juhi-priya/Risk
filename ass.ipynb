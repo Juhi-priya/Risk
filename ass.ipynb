{
 "cells": [
  {
   "cell_type": "code",
   "execution_count": 6,
   "metadata": {},
   "outputs": [
    {
     "name": "stdout",
     "output_type": "stream",
     "text": [
      "Requirement already satisfied: pingouin in /usr/local/lib/python3.6/site-packages (0.3.12)\n",
      "Requirement already satisfied: category_encoders in /usr/local/lib/python3.6/site-packages (2.4.0)\n",
      "Requirement already satisfied: pydotplus in /usr/local/lib/python3.6/site-packages (2.0.2)\n",
      "Requirement already satisfied: pandas in /usr/local/lib/python3.6/site-packages (1.1.5)\n",
      "Requirement already satisfied: matplotlib in /usr/local/lib/python3.6/site-packages (3.3.4)\n",
      "Requirement already satisfied: sklearn in /usr/local/lib/python3.6/site-packages (0.0)\n",
      "Requirement already satisfied: seaborn in /usr/local/lib/python3.6/site-packages (0.11.2)\n",
      "Requirement already satisfied: numpy in /usr/local/lib/python3.6/site-packages (1.19.5)\n",
      "Requirement already satisfied: scipy>=1.0.0 in /usr/local/lib/python3.6/site-packages (from category_encoders) (1.5.4)\n",
      "Requirement already satisfied: patsy>=0.5.1 in /usr/local/lib/python3.6/site-packages (from category_encoders) (0.5.2)\n",
      "Requirement already satisfied: scikit-learn>=0.20.0 in /usr/local/lib/python3.6/site-packages (from category_encoders) (0.24.2)\n",
      "Requirement already satisfied: statsmodels>=0.9.0 in /usr/local/lib/python3.6/site-packages (from category_encoders) (0.12.2)\n",
      "Requirement already satisfied: pytz>=2017.2 in /usr/local/lib/python3.6/site-packages (from pandas) (2022.1)\n",
      "Requirement already satisfied: python-dateutil>=2.7.3 in /usr/local/lib/python3.6/site-packages (from pandas) (2.8.2)\n",
      "Requirement already satisfied: six in /usr/local/lib/python3.6/site-packages (from patsy>=0.5.1->category_encoders) (1.16.0)\n",
      "Requirement already satisfied: threadpoolctl>=2.0.0 in /usr/local/lib/python3.6/site-packages (from scikit-learn>=0.20.0->category_encoders) (3.1.0)\n",
      "Requirement already satisfied: joblib>=0.11 in /usr/local/lib/python3.6/site-packages (from scikit-learn>=0.20.0->category_encoders) (1.1.0)\n",
      "Requirement already satisfied: kiwisolver>=1.0.1 in /usr/local/lib/python3.6/site-packages (from matplotlib) (1.3.1)\n",
      "Requirement already satisfied: pillow>=6.2.0 in /usr/local/lib/python3.6/site-packages (from matplotlib) (8.4.0)\n",
      "Requirement already satisfied: pyparsing!=2.0.4,!=2.1.2,!=2.1.6,>=2.0.3 in /usr/local/lib/python3.6/site-packages (from matplotlib) (3.0.8)\n",
      "Requirement already satisfied: cycler>=0.10 in /usr/local/lib/python3.6/site-packages (from matplotlib) (0.11.0)\n",
      "Requirement already satisfied: pandas-flavor>=0.1.2 in /usr/local/lib/python3.6/site-packages (from pingouin) (0.2.0)\n",
      "Requirement already satisfied: outdated in /usr/local/lib/python3.6/site-packages (from pingouin) (0.2.1)\n",
      "Requirement already satisfied: tabulate in /usr/local/lib/python3.6/site-packages (from pingouin) (0.8.9)\n",
      "Requirement already satisfied: xarray in /usr/local/lib/python3.6/site-packages (from pandas-flavor>=0.1.2->pingouin) (0.16.2)\n",
      "Requirement already satisfied: requests in /usr/local/lib/python3.6/site-packages (from outdated->pingouin) (2.27.1)\n",
      "Requirement already satisfied: littleutils in /usr/local/lib/python3.6/site-packages (from outdated->pingouin) (0.2.2)\n",
      "Requirement already satisfied: urllib3<1.27,>=1.21.1 in /usr/local/lib/python3.6/site-packages (from requests->outdated->pingouin) (1.26.7)\n",
      "Requirement already satisfied: idna<4,>=2.5 in /usr/local/lib/python3.6/site-packages (from requests->outdated->pingouin) (3.3)\n",
      "Requirement already satisfied: certifi>=2017.4.17 in /usr/local/lib/python3.6/site-packages (from requests->outdated->pingouin) (2021.10.8)\n",
      "Requirement already satisfied: charset-normalizer~=2.0.0 in /usr/local/lib/python3.6/site-packages (from requests->outdated->pingouin) (2.0.12)\n",
      "Requirement already satisfied: setuptools>=38.4 in /usr/local/lib/python3.6/site-packages (from xarray->pandas-flavor>=0.1.2->pingouin) (59.3.0)\n",
      "\u001b[33mWARNING: You are using pip version 21.0.1; however, version 21.3.1 is available.\n",
      "You should consider upgrading via the '/usr/local/bin/python -m pip install --upgrade pip' command.\u001b[0m\n"
     ]
    }
   ],
   "source": [
    "!pip install pingouin category_encoders pydotplus pandas matplotlib sklearn seaborn numpy\n",
    "import warnings\n",
    "warnings.filterwarnings(\"ignore\")"
   ]
  },
  {
   "cell_type": "code",
   "execution_count": 7,
   "metadata": {},
   "outputs": [],
   "source": [
    "import pandas as pd  \n",
    "import numpy as np  \n",
    "import seaborn as sns  \n",
    "import pingouin as pgimport \n",
    "from scipy.stats import chi2  \n",
    "from scipy.stats import chi2_contingency  \n",
    "from scipy.stats import pearsonr, spearmanr\n",
    "from sklearn.preprocessing import StandardScaler  \n",
    "from sklearn.preprocessing import MinMaxScaler  \n",
    "from sklearn.model_selection import train_test_split  \n",
    "from sklearn.model_selection import GridSearchCV  \n",
    "from sklearn.ensemble import RandomForestClassifier  \n",
    "from sklearn.linear_model import LogisticRegression  \n",
    "from sklearn.neighbors import KNeighborsClassifier  \n",
    "from sklearn.svm import SVC  \n",
    "from sklearn import tree  \n",
    "from sklearn.tree import export_graphviz  \n",
    "from six import StringIO  \n",
    "from sklearn.linear_model import Perceptron  \n",
    "from sklearn.neural_network import MLPClassifier  \n",
    "from sklearn.metrics import  precision_recall_curve, roc_auc_score, confusion_matrix, accuracy_score, recall_score, precision_score, f1_score,auc, roc_curve, plot_confusion_matrix \n",
    "from category_encoders import BinaryEncoder  \n",
    "from IPython.display import Image  \n",
    "import pydotplus\n",
    "import matplotlib.pyplot as plt  \n",
    "%matplotlib inline  \n",
    "color = sns.color_palette()\n",
    "seed = 42"
   ]
  },
  {
   "cell_type": "markdown",
   "metadata": {},
   "source": [
    "# Predict probability of default\n",
    "## Reading Data and preparing target"
   ]
  },
  {
   "cell_type": "code",
   "execution_count": 8,
   "metadata": {},
   "outputs": [],
   "source": [
    "df = pd.read_csv('loan_data.csv')"
   ]
  },
  {
   "cell_type": "code",
   "execution_count": 9,
   "metadata": {},
   "outputs": [
    {
     "data": {
      "text/html": [
       "<div>\n",
       "<style scoped>\n",
       "    .dataframe tbody tr th:only-of-type {\n",
       "        vertical-align: middle;\n",
       "    }\n",
       "\n",
       "    .dataframe tbody tr th {\n",
       "        vertical-align: top;\n",
       "    }\n",
       "\n",
       "    .dataframe thead th {\n",
       "        text-align: right;\n",
       "    }\n",
       "</style>\n",
       "<table border=\"1\" class=\"dataframe\">\n",
       "  <thead>\n",
       "    <tr style=\"text-align: right;\">\n",
       "      <th></th>\n",
       "      <th>id</th>\n",
       "      <th>member_id</th>\n",
       "      <th>loan_amnt</th>\n",
       "      <th>funded_amnt</th>\n",
       "      <th>funded_amnt_inv</th>\n",
       "      <th>term</th>\n",
       "      <th>int_rate</th>\n",
       "      <th>installment</th>\n",
       "      <th>grade</th>\n",
       "      <th>sub_grade</th>\n",
       "      <th>...</th>\n",
       "      <th>total_bal_il</th>\n",
       "      <th>il_util</th>\n",
       "      <th>open_rv_12m</th>\n",
       "      <th>open_rv_24m</th>\n",
       "      <th>max_bal_bc</th>\n",
       "      <th>all_util</th>\n",
       "      <th>total_rev_hi_lim</th>\n",
       "      <th>inq_fi</th>\n",
       "      <th>total_cu_tl</th>\n",
       "      <th>inq_last_12m</th>\n",
       "    </tr>\n",
       "  </thead>\n",
       "  <tbody>\n",
       "    <tr>\n",
       "      <th>0</th>\n",
       "      <td>1077501</td>\n",
       "      <td>1296599</td>\n",
       "      <td>5000</td>\n",
       "      <td>5000</td>\n",
       "      <td>4975.0</td>\n",
       "      <td>36 months</td>\n",
       "      <td>10.65</td>\n",
       "      <td>162.87</td>\n",
       "      <td>B</td>\n",
       "      <td>B2</td>\n",
       "      <td>...</td>\n",
       "      <td>NaN</td>\n",
       "      <td>NaN</td>\n",
       "      <td>NaN</td>\n",
       "      <td>NaN</td>\n",
       "      <td>NaN</td>\n",
       "      <td>NaN</td>\n",
       "      <td>NaN</td>\n",
       "      <td>NaN</td>\n",
       "      <td>NaN</td>\n",
       "      <td>NaN</td>\n",
       "    </tr>\n",
       "    <tr>\n",
       "      <th>1</th>\n",
       "      <td>1077430</td>\n",
       "      <td>1314167</td>\n",
       "      <td>2500</td>\n",
       "      <td>2500</td>\n",
       "      <td>2500.0</td>\n",
       "      <td>60 months</td>\n",
       "      <td>15.27</td>\n",
       "      <td>59.83</td>\n",
       "      <td>C</td>\n",
       "      <td>C4</td>\n",
       "      <td>...</td>\n",
       "      <td>NaN</td>\n",
       "      <td>NaN</td>\n",
       "      <td>NaN</td>\n",
       "      <td>NaN</td>\n",
       "      <td>NaN</td>\n",
       "      <td>NaN</td>\n",
       "      <td>NaN</td>\n",
       "      <td>NaN</td>\n",
       "      <td>NaN</td>\n",
       "      <td>NaN</td>\n",
       "    </tr>\n",
       "  </tbody>\n",
       "</table>\n",
       "<p>2 rows × 74 columns</p>\n",
       "</div>"
      ],
      "text/plain": [
       "        id  member_id  loan_amnt  funded_amnt  funded_amnt_inv        term  \\\n",
       "0  1077501    1296599       5000         5000           4975.0   36 months   \n",
       "1  1077430    1314167       2500         2500           2500.0   60 months   \n",
       "\n",
       "   int_rate  installment grade sub_grade  ... total_bal_il il_util  \\\n",
       "0     10.65       162.87     B        B2  ...          NaN     NaN   \n",
       "1     15.27        59.83     C        C4  ...          NaN     NaN   \n",
       "\n",
       "  open_rv_12m  open_rv_24m max_bal_bc all_util total_rev_hi_lim inq_fi  \\\n",
       "0         NaN          NaN        NaN      NaN              NaN    NaN   \n",
       "1         NaN          NaN        NaN      NaN              NaN    NaN   \n",
       "\n",
       "  total_cu_tl inq_last_12m  \n",
       "0         NaN          NaN  \n",
       "1         NaN          NaN  \n",
       "\n",
       "[2 rows x 74 columns]"
      ]
     },
     "execution_count": 9,
     "metadata": {},
     "output_type": "execute_result"
    }
   ],
   "source": [
    "df.head(2)"
   ]
  },
  {
   "cell_type": "code",
   "execution_count": 10,
   "metadata": {},
   "outputs": [
    {
     "name": "stdout",
     "output_type": "stream",
     "text": [
      "<class 'pandas.core.frame.DataFrame'>\n",
      "RangeIndex: 466285 entries, 0 to 466284\n",
      "Data columns (total 74 columns):\n",
      " #   Column                       Non-Null Count   Dtype  \n",
      "---  ------                       --------------   -----  \n",
      " 0   id                           466285 non-null  int64  \n",
      " 1   member_id                    466285 non-null  int64  \n",
      " 2   loan_amnt                    466285 non-null  int64  \n",
      " 3   funded_amnt                  466285 non-null  int64  \n",
      " 4   funded_amnt_inv              466285 non-null  float64\n",
      " 5   term                         466285 non-null  object \n",
      " 6   int_rate                     466285 non-null  float64\n",
      " 7   installment                  466285 non-null  float64\n",
      " 8   grade                        466285 non-null  object \n",
      " 9   sub_grade                    466285 non-null  object \n",
      " 10  emp_title                    438697 non-null  object \n",
      " 11  emp_length                   445277 non-null  object \n",
      " 12  home_ownership               466285 non-null  object \n",
      " 13  annual_inc                   466281 non-null  float64\n",
      " 14  verification_status          466285 non-null  object \n",
      " 15  issue_d                      466285 non-null  object \n",
      " 16  loan_status                  466285 non-null  object \n",
      " 17  pymnt_plan                   466285 non-null  object \n",
      " 18  url                          466285 non-null  object \n",
      " 19  desc                         125983 non-null  object \n",
      " 20  purpose                      466285 non-null  object \n",
      " 21  title                        466265 non-null  object \n",
      " 22  zip_code                     466285 non-null  object \n",
      " 23  addr_state                   466285 non-null  object \n",
      " 24  dti                          466285 non-null  float64\n",
      " 25  delinq_2yrs                  466256 non-null  float64\n",
      " 26  earliest_cr_line             466256 non-null  object \n",
      " 27  inq_last_6mths               466256 non-null  float64\n",
      " 28  mths_since_last_delinq       215934 non-null  float64\n",
      " 29  mths_since_last_record       62638 non-null   float64\n",
      " 30  open_acc                     466256 non-null  float64\n",
      " 31  pub_rec                      466256 non-null  float64\n",
      " 32  revol_bal                    466285 non-null  int64  \n",
      " 33  revol_util                   465945 non-null  float64\n",
      " 34  total_acc                    466256 non-null  float64\n",
      " 35  initial_list_status          466285 non-null  object \n",
      " 36  out_prncp                    466285 non-null  float64\n",
      " 37  out_prncp_inv                466285 non-null  float64\n",
      " 38  total_pymnt                  466285 non-null  float64\n",
      " 39  total_pymnt_inv              466285 non-null  float64\n",
      " 40  total_rec_prncp              466285 non-null  float64\n",
      " 41  total_rec_int                466285 non-null  float64\n",
      " 42  total_rec_late_fee           466285 non-null  float64\n",
      " 43  recoveries                   466285 non-null  float64\n",
      " 44  collection_recovery_fee      466285 non-null  float64\n",
      " 45  last_pymnt_d                 465909 non-null  object \n",
      " 46  last_pymnt_amnt              466285 non-null  float64\n",
      " 47  next_pymnt_d                 239071 non-null  object \n",
      " 48  last_credit_pull_d           466243 non-null  object \n",
      " 49  collections_12_mths_ex_med   466140 non-null  float64\n",
      " 50  mths_since_last_major_derog  98974 non-null   float64\n",
      " 51  policy_code                  466285 non-null  int64  \n",
      " 52  application_type             466285 non-null  object \n",
      " 53  annual_inc_joint             0 non-null       float64\n",
      " 54  dti_joint                    0 non-null       float64\n",
      " 55  verification_status_joint    0 non-null       float64\n",
      " 56  acc_now_delinq               466256 non-null  float64\n",
      " 57  tot_coll_amt                 396009 non-null  float64\n",
      " 58  tot_cur_bal                  396009 non-null  float64\n",
      " 59  open_acc_6m                  0 non-null       float64\n",
      " 60  open_il_6m                   0 non-null       float64\n",
      " 61  open_il_12m                  0 non-null       float64\n",
      " 62  open_il_24m                  0 non-null       float64\n",
      " 63  mths_since_rcnt_il           0 non-null       float64\n",
      " 64  total_bal_il                 0 non-null       float64\n",
      " 65  il_util                      0 non-null       float64\n",
      " 66  open_rv_12m                  0 non-null       float64\n",
      " 67  open_rv_24m                  0 non-null       float64\n",
      " 68  max_bal_bc                   0 non-null       float64\n",
      " 69  all_util                     0 non-null       float64\n",
      " 70  total_rev_hi_lim             396009 non-null  float64\n",
      " 71  inq_fi                       0 non-null       float64\n",
      " 72  total_cu_tl                  0 non-null       float64\n",
      " 73  inq_last_12m                 0 non-null       float64\n",
      "dtypes: float64(46), int64(6), object(22)\n",
      "memory usage: 263.3+ MB\n"
     ]
    }
   ],
   "source": [
    "df.info()"
   ]
  },
  {
   "cell_type": "code",
   "execution_count": 12,
   "metadata": {},
   "outputs": [
    {
     "name": "stdout",
     "output_type": "stream",
     "text": [
      "5.916553180994456 \t emp_title\n",
      "4.505399058515715 \t emp_length\n",
      "0.0008578444513548581 \t annual_inc\n",
      "72.98154562124023 \t desc\n",
      "0.004289222256774291 \t title\n",
      "0.006219372272322722 \t delinq_2yrs\n",
      "0.006219372272322722 \t earliest_cr_line\n",
      "0.006219372272322722 \t inq_last_6mths\n",
      "53.690554060285024 \t mths_since_last_delinq\n",
      "86.56658481400859 \t mths_since_last_record\n",
      "0.006219372272322722 \t open_acc\n",
      "0.006219372272322722 \t pub_rec\n",
      "0.07291677836516293 \t revol_util\n",
      "0.006219372272322722 \t total_acc\n",
      "0.08063737842735666 \t last_pymnt_d\n",
      "48.72856729253568 \t next_pymnt_d\n",
      "0.00900736673922601 \t last_credit_pull_d\n",
      "0.031096861361613604 \t collections_12_mths_ex_med\n",
      "78.77392581790107 \t mths_since_last_major_derog\n",
      "100.0 \t annual_inc_joint\n",
      "100.0 \t dti_joint\n",
      "100.0 \t verification_status_joint\n",
      "0.006219372272322722 \t acc_now_delinq\n",
      "15.071469165853502 \t tot_coll_amt\n",
      "15.071469165853502 \t tot_cur_bal\n",
      "100.0 \t open_acc_6m\n",
      "100.0 \t open_il_6m\n",
      "100.0 \t open_il_12m\n",
      "100.0 \t open_il_24m\n",
      "100.0 \t mths_since_rcnt_il\n",
      "100.0 \t total_bal_il\n",
      "100.0 \t il_util\n",
      "100.0 \t open_rv_12m\n",
      "100.0 \t open_rv_24m\n",
      "100.0 \t max_bal_bc\n",
      "100.0 \t all_util\n",
      "15.071469165853502 \t total_rev_hi_lim\n",
      "100.0 \t inq_fi\n",
      "100.0 \t total_cu_tl\n"
     ]
    }
   ],
   "source": [
    "for i in range(73) :\n",
    "    if ( df.isna().sum()[i] >0 ):\n",
    "        print( (df.isna().sum()[i]/len(df)) *100, \"\\t\",df.isna().sum().index[i] )"
   ]
  },
  {
   "cell_type": "code",
   "execution_count": 13,
   "metadata": {},
   "outputs": [],
   "source": [
    "# Drop all columns with null> 70%\n",
    "list=['total_cu_tl','inq_fi','all_util','max_bal_bc','open_rv_24m','open_rv_12m','il_util','total_bal_il','mths_since_rcnt_il','open_il_24m','open_il_12m','open_il_6m','open_acc_6m','verification_status_joint','dti_joint','dti_joint','mths_since_last_record','mths_since_last_major_derog','desc']\n",
    "df.drop(list, axis=1, inplace=True)"
   ]
  },
  {
   "cell_type": "code",
   "execution_count": 14,
   "metadata": {},
   "outputs": [],
   "source": [
    "df.drop(['annual_inc_joint','inq_last_12m'], axis=1, inplace=True)"
   ]
  },
  {
   "cell_type": "code",
   "execution_count": 15,
   "metadata": {},
   "outputs": [
    {
     "name": "stdout",
     "output_type": "stream",
     "text": [
      "5.916553180994456 \t emp_title\n",
      "4.505399058515715 \t emp_length\n",
      "0.0008578444513548581 \t annual_inc\n",
      "0.004289222256774291 \t title\n",
      "0.006219372272322722 \t delinq_2yrs\n",
      "0.006219372272322722 \t earliest_cr_line\n",
      "0.006219372272322722 \t inq_last_6mths\n",
      "53.690554060285024 \t mths_since_last_delinq\n",
      "0.006219372272322722 \t open_acc\n",
      "0.006219372272322722 \t pub_rec\n",
      "0.07291677836516293 \t revol_util\n",
      "0.006219372272322722 \t total_acc\n",
      "0.08063737842735666 \t last_pymnt_d\n",
      "48.72856729253568 \t next_pymnt_d\n",
      "0.00900736673922601 \t last_credit_pull_d\n",
      "0.031096861361613604 \t collections_12_mths_ex_med\n",
      "0.006219372272322722 \t acc_now_delinq\n",
      "15.071469165853502 \t tot_coll_amt\n",
      "15.071469165853502 \t tot_cur_bal\n",
      "15.071469165853502 \t total_rev_hi_lim\n"
     ]
    }
   ],
   "source": [
    "for i in range(54) :\n",
    "    if ( df.isna().sum()[i] >0 ):\n",
    "        print( (df.isna().sum()[i]/len(df)) *100, \"\\t\",df.isna().sum().index[i] )"
   ]
  },
  {
   "cell_type": "code",
   "execution_count": 16,
   "metadata": {},
   "outputs": [
    {
     "data": {
      "text/plain": [
       "Index(['id', 'member_id', 'loan_amnt', 'funded_amnt', 'funded_amnt_inv',\n",
       "       'term', 'int_rate', 'installment', 'grade', 'sub_grade', 'emp_title',\n",
       "       'emp_length', 'home_ownership', 'annual_inc', 'verification_status',\n",
       "       'issue_d', 'loan_status', 'pymnt_plan', 'url', 'purpose', 'title',\n",
       "       'zip_code', 'addr_state', 'dti', 'delinq_2yrs', 'earliest_cr_line',\n",
       "       'inq_last_6mths', 'mths_since_last_delinq', 'open_acc', 'pub_rec',\n",
       "       'revol_bal', 'revol_util', 'total_acc', 'initial_list_status',\n",
       "       'out_prncp', 'out_prncp_inv', 'total_pymnt', 'total_pymnt_inv',\n",
       "       'total_rec_prncp', 'total_rec_int', 'total_rec_late_fee', 'recoveries',\n",
       "       'collection_recovery_fee', 'last_pymnt_d', 'last_pymnt_amnt',\n",
       "       'next_pymnt_d', 'last_credit_pull_d', 'collections_12_mths_ex_med',\n",
       "       'policy_code', 'application_type', 'acc_now_delinq', 'tot_coll_amt',\n",
       "       'tot_cur_bal', 'total_rev_hi_lim'],\n",
       "      dtype='object')"
      ]
     },
     "execution_count": 16,
     "metadata": {},
     "output_type": "execute_result"
    }
   ],
   "source": [
    "df.columns"
   ]
  },
  {
   "cell_type": "code",
   "execution_count": 17,
   "metadata": {},
   "outputs": [
    {
     "data": {
      "text/html": [
       "<div>\n",
       "<style scoped>\n",
       "    .dataframe tbody tr th:only-of-type {\n",
       "        vertical-align: middle;\n",
       "    }\n",
       "\n",
       "    .dataframe tbody tr th {\n",
       "        vertical-align: top;\n",
       "    }\n",
       "\n",
       "    .dataframe thead th {\n",
       "        text-align: right;\n",
       "    }\n",
       "</style>\n",
       "<table border=\"1\" class=\"dataframe\">\n",
       "  <thead>\n",
       "    <tr style=\"text-align: right;\">\n",
       "      <th></th>\n",
       "      <th>recoveries</th>\n",
       "      <th>total_rec_late_fee</th>\n",
       "      <th>total_rec_int</th>\n",
       "      <th>total_rec_prncp</th>\n",
       "      <th>collection_recovery_fee</th>\n",
       "    </tr>\n",
       "  </thead>\n",
       "  <tbody>\n",
       "    <tr>\n",
       "      <th>0</th>\n",
       "      <td>0.00</td>\n",
       "      <td>0.0</td>\n",
       "      <td>861.07</td>\n",
       "      <td>5000.00</td>\n",
       "      <td>0.00</td>\n",
       "    </tr>\n",
       "    <tr>\n",
       "      <th>1</th>\n",
       "      <td>117.08</td>\n",
       "      <td>0.0</td>\n",
       "      <td>435.17</td>\n",
       "      <td>456.46</td>\n",
       "      <td>1.11</td>\n",
       "    </tr>\n",
       "  </tbody>\n",
       "</table>\n",
       "</div>"
      ],
      "text/plain": [
       "   recoveries  total_rec_late_fee  total_rec_int  total_rec_prncp  \\\n",
       "0        0.00                 0.0         861.07          5000.00   \n",
       "1      117.08                 0.0         435.17           456.46   \n",
       "\n",
       "   collection_recovery_fee  \n",
       "0                     0.00  \n",
       "1                     1.11  "
      ]
     },
     "execution_count": 17,
     "metadata": {},
     "output_type": "execute_result"
    }
   ],
   "source": [
    "df[['recoveries','total_rec_late_fee', 'total_rec_int', 'total_rec_prncp','collection_recovery_fee']].head(2) #after default variables"
   ]
  },
  {
   "cell_type": "code",
   "execution_count": 18,
   "metadata": {},
   "outputs": [
    {
     "data": {
      "text/html": [
       "<div>\n",
       "<style scoped>\n",
       "    .dataframe tbody tr th:only-of-type {\n",
       "        vertical-align: middle;\n",
       "    }\n",
       "\n",
       "    .dataframe tbody tr th {\n",
       "        vertical-align: top;\n",
       "    }\n",
       "\n",
       "    .dataframe thead th {\n",
       "        text-align: right;\n",
       "    }\n",
       "</style>\n",
       "<table border=\"1\" class=\"dataframe\">\n",
       "  <thead>\n",
       "    <tr style=\"text-align: right;\">\n",
       "      <th></th>\n",
       "      <th>emp_title</th>\n",
       "      <th>url</th>\n",
       "      <th>purpose</th>\n",
       "      <th>title</th>\n",
       "      <th>zip_code</th>\n",
       "      <th>addr_state</th>\n",
       "      <th>title</th>\n",
       "    </tr>\n",
       "  </thead>\n",
       "  <tbody>\n",
       "    <tr>\n",
       "      <th>0</th>\n",
       "      <td>NaN</td>\n",
       "      <td>https://www.lendingclub.com/browse/loanDetail....</td>\n",
       "      <td>credit_card</td>\n",
       "      <td>Computer</td>\n",
       "      <td>860xx</td>\n",
       "      <td>AZ</td>\n",
       "      <td>Computer</td>\n",
       "    </tr>\n",
       "    <tr>\n",
       "      <th>1</th>\n",
       "      <td>Ryder</td>\n",
       "      <td>https://www.lendingclub.com/browse/loanDetail....</td>\n",
       "      <td>car</td>\n",
       "      <td>bike</td>\n",
       "      <td>309xx</td>\n",
       "      <td>GA</td>\n",
       "      <td>bike</td>\n",
       "    </tr>\n",
       "  </tbody>\n",
       "</table>\n",
       "</div>"
      ],
      "text/plain": [
       "  emp_title                                                url      purpose  \\\n",
       "0       NaN  https://www.lendingclub.com/browse/loanDetail....  credit_card   \n",
       "1     Ryder  https://www.lendingclub.com/browse/loanDetail....          car   \n",
       "\n",
       "      title zip_code addr_state     title  \n",
       "0  Computer    860xx         AZ  Computer  \n",
       "1      bike    309xx         GA      bike  "
      ]
     },
     "execution_count": 18,
     "metadata": {},
     "output_type": "execute_result"
    }
   ],
   "source": [
    "df[['emp_title','url', 'purpose', 'title','zip_code', 'addr_state','title']].head(2)"
   ]
  },
  {
   "cell_type": "code",
   "execution_count": 19,
   "metadata": {},
   "outputs": [],
   "source": [
    "df.drop(['id','member_id','url'], axis=1, inplace=True)"
   ]
  },
  {
   "cell_type": "code",
   "execution_count": 20,
   "metadata": {},
   "outputs": [],
   "source": [
    "df.drop(['recoveries','total_rec_late_fee', 'total_rec_int', 'total_rec_prncp','collection_recovery_fee'], axis=1, inplace=True)"
   ]
  },
  {
   "cell_type": "markdown",
   "metadata": {},
   "source": [
    "df.describe()"
   ]
  },
  {
   "cell_type": "code",
   "execution_count": 21,
   "metadata": {},
   "outputs": [
    {
     "data": {
      "text/plain": [
       "Current                                                48.087757\n",
       "Fully Paid                                             39.619332\n",
       "Charged Off                                             9.109236\n",
       "Late (31-120 days)                                      1.479782\n",
       "In Grace Period                                         0.674695\n",
       "Does not meet the credit policy. Status:Fully Paid      0.426349\n",
       "Late (16-30 days)                                       0.261214\n",
       "Default                                                 0.178432\n",
       "Does not meet the credit policy. Status:Charged Off     0.163205\n",
       "Name: loan_status, dtype: float64"
      ]
     },
     "execution_count": 21,
     "metadata": {},
     "output_type": "execute_result"
    }
   ],
   "source": [
    "target = 'loan_status'\n",
    "df[target].value_counts(normalize = True)*100"
   ]
  },
  {
   "cell_type": "code",
   "execution_count": 22,
   "metadata": {},
   "outputs": [
    {
     "name": "stdout",
     "output_type": "stream",
     "text": [
      "0\n"
     ]
    }
   ],
   "source": [
    "#Any NA Values in target ?\n",
    "print(df[target].isna().sum()  )"
   ]
  },
  {
   "cell_type": "code",
   "execution_count": 23,
   "metadata": {},
   "outputs": [],
   "source": [
    "value=['Fully Paid','Charged Off','Late (31-120 days)','Does not meet the credit policy. Status:Charged Off','Default']\n",
    "df_new=df.loc[df[target].isin(value)]"
   ]
  },
  {
   "cell_type": "code",
   "execution_count": 24,
   "metadata": {},
   "outputs": [
    {
     "data": {
      "text/plain": [
       "Fully Paid                                             184739\n",
       "Charged Off                                             42475\n",
       "Late (31-120 days)                                       6900\n",
       "Default                                                   832\n",
       "Does not meet the credit policy. Status:Charged Off       761\n",
       "Name: loan_status, dtype: int64"
      ]
     },
     "execution_count": 24,
     "metadata": {},
     "output_type": "execute_result"
    }
   ],
   "source": [
    "df_new[target].value_counts()"
   ]
  },
  {
   "cell_type": "code",
   "execution_count": 25,
   "metadata": {},
   "outputs": [],
   "source": [
    "good=['Fully Paid']\n",
    "bad=['Charged Off','Late (31-120 days)','Default','Does not meet the credit policy. Status:Charged Off'] "
   ]
  },
  {
   "cell_type": "code",
   "execution_count": 26,
   "metadata": {},
   "outputs": [],
   "source": [
    "df_new[\"target\"]=np.where(df_new.loc[:, 'loan_status'].isin(bad), 0, 1) # bad is 0 good 1!!"
   ]
  },
  {
   "cell_type": "code",
   "execution_count": 27,
   "metadata": {},
   "outputs": [
    {
     "data": {
      "text/plain": [
       "(Index(['loan_amnt', 'funded_amnt', 'funded_amnt_inv', 'term', 'int_rate',\n",
       "        'installment', 'grade', 'sub_grade', 'emp_title', 'emp_length',\n",
       "        'home_ownership', 'annual_inc', 'verification_status', 'issue_d',\n",
       "        'loan_status', 'pymnt_plan', 'purpose', 'title', 'zip_code',\n",
       "        'addr_state', 'dti', 'delinq_2yrs', 'earliest_cr_line',\n",
       "        'inq_last_6mths', 'mths_since_last_delinq', 'open_acc', 'pub_rec',\n",
       "        'revol_bal', 'revol_util', 'total_acc', 'initial_list_status',\n",
       "        'out_prncp', 'out_prncp_inv', 'total_pymnt', 'total_pymnt_inv',\n",
       "        'last_pymnt_d', 'last_pymnt_amnt', 'next_pymnt_d', 'last_credit_pull_d',\n",
       "        'collections_12_mths_ex_med', 'policy_code', 'application_type',\n",
       "        'acc_now_delinq', 'tot_coll_amt', 'tot_cur_bal', 'total_rev_hi_lim'],\n",
       "       dtype='object'),\n",
       " (466285, 46))"
      ]
     },
     "execution_count": 27,
     "metadata": {},
     "output_type": "execute_result"
    }
   ],
   "source": [
    "df.columns , df.shape"
   ]
  },
  {
   "cell_type": "code",
   "execution_count": null,
   "metadata": {},
   "outputs": [],
   "source": []
  },
  {
   "cell_type": "code",
   "execution_count": null,
   "metadata": {},
   "outputs": [],
   "source": []
  },
  {
   "cell_type": "code",
   "execution_count": null,
   "metadata": {},
   "outputs": [],
   "source": []
  },
  {
   "cell_type": "code",
   "execution_count": null,
   "metadata": {},
   "outputs": [],
   "source": []
  },
  {
   "cell_type": "code",
   "execution_count": null,
   "metadata": {},
   "outputs": [],
   "source": []
  },
  {
   "cell_type": "code",
   "execution_count": 28,
   "metadata": {},
   "outputs": [
    {
     "data": {
      "text/plain": [
       "dtype('O')"
      ]
     },
     "execution_count": 28,
     "metadata": {},
     "output_type": "execute_result"
    }
   ],
   "source": [
    "df_new[\"term\"].dtype"
   ]
  },
  {
   "cell_type": "code",
   "execution_count": 29,
   "metadata": {},
   "outputs": [],
   "source": [
    "import re\n",
    "df_new[\"term\"]=df_new[\"term\"].apply(lambda x: re.sub(r' months','', str(x)))"
   ]
  },
  {
   "cell_type": "code",
   "execution_count": 30,
   "metadata": {},
   "outputs": [],
   "source": [
    "df_new['emp_years'] = df_new['emp_length'].str.extract('(\\d+)', expand=False)"
   ]
  },
  {
   "cell_type": "code",
   "execution_count": 31,
   "metadata": {},
   "outputs": [],
   "source": [
    "df_new.drop(\"emp_length\",axis=1,inplace=True)"
   ]
  },
  {
   "cell_type": "code",
   "execution_count": null,
   "metadata": {},
   "outputs": [],
   "source": []
  },
  {
   "cell_type": "code",
   "execution_count": 32,
   "metadata": {},
   "outputs": [
    {
     "data": {
      "text/plain": [
       "Index(['loan_amnt', 'funded_amnt', 'funded_amnt_inv', 'term', 'int_rate',\n",
       "       'installment', 'grade', 'sub_grade', 'emp_title', 'home_ownership',\n",
       "       'annual_inc', 'verification_status', 'issue_d', 'loan_status',\n",
       "       'pymnt_plan', 'purpose', 'title', 'zip_code', 'addr_state', 'dti',\n",
       "       'delinq_2yrs', 'earliest_cr_line', 'inq_last_6mths',\n",
       "       'mths_since_last_delinq', 'open_acc', 'pub_rec', 'revol_bal',\n",
       "       'revol_util', 'total_acc', 'initial_list_status', 'out_prncp',\n",
       "       'out_prncp_inv', 'total_pymnt', 'total_pymnt_inv', 'last_pymnt_d',\n",
       "       'last_pymnt_amnt', 'next_pymnt_d', 'last_credit_pull_d',\n",
       "       'collections_12_mths_ex_med', 'policy_code', 'application_type',\n",
       "       'acc_now_delinq', 'tot_coll_amt', 'tot_cur_bal', 'total_rev_hi_lim',\n",
       "       'target', 'emp_years'],\n",
       "      dtype='object')"
      ]
     },
     "execution_count": 32,
     "metadata": {},
     "output_type": "execute_result"
    }
   ],
   "source": [
    "df_new.columns"
   ]
  },
  {
   "cell_type": "code",
   "execution_count": 33,
   "metadata": {},
   "outputs": [],
   "source": [
    "#processing columns"
   ]
  },
  {
   "cell_type": "code",
   "execution_count": 34,
   "metadata": {},
   "outputs": [],
   "source": [
    "df_new.drop(\"zip_code\",axis=1,inplace=True)"
   ]
  },
  {
   "cell_type": "code",
   "execution_count": 35,
   "metadata": {},
   "outputs": [
    {
     "data": {
      "text/html": [
       "<div>\n",
       "<style scoped>\n",
       "    .dataframe tbody tr th:only-of-type {\n",
       "        vertical-align: middle;\n",
       "    }\n",
       "\n",
       "    .dataframe tbody tr th {\n",
       "        vertical-align: top;\n",
       "    }\n",
       "\n",
       "    .dataframe thead th {\n",
       "        text-align: right;\n",
       "    }\n",
       "</style>\n",
       "<table border=\"1\" class=\"dataframe\">\n",
       "  <thead>\n",
       "    <tr style=\"text-align: right;\">\n",
       "      <th></th>\n",
       "      <th>purpose</th>\n",
       "      <th>title</th>\n",
       "      <th>addr_state</th>\n",
       "      <th>dti</th>\n",
       "      <th>annual_inc</th>\n",
       "      <th>verification_status</th>\n",
       "      <th>issue_d</th>\n",
       "      <th>loan_status</th>\n",
       "      <th>loan_amnt</th>\n",
       "      <th>funded_amnt</th>\n",
       "      <th>funded_amnt_inv</th>\n",
       "      <th>term</th>\n",
       "      <th>int_rate</th>\n",
       "      <th>installment</th>\n",
       "      <th>grade</th>\n",
       "      <th>sub_grade</th>\n",
       "      <th>emp_title</th>\n",
       "      <th>home_ownership</th>\n",
       "    </tr>\n",
       "  </thead>\n",
       "  <tbody>\n",
       "    <tr>\n",
       "      <th>0</th>\n",
       "      <td>credit_card</td>\n",
       "      <td>Computer</td>\n",
       "      <td>AZ</td>\n",
       "      <td>27.65</td>\n",
       "      <td>24000.0</td>\n",
       "      <td>Verified</td>\n",
       "      <td>Dec-11</td>\n",
       "      <td>Fully Paid</td>\n",
       "      <td>5000</td>\n",
       "      <td>5000</td>\n",
       "      <td>4975.0</td>\n",
       "      <td>36</td>\n",
       "      <td>10.65</td>\n",
       "      <td>162.87</td>\n",
       "      <td>B</td>\n",
       "      <td>B2</td>\n",
       "      <td>NaN</td>\n",
       "      <td>RENT</td>\n",
       "    </tr>\n",
       "    <tr>\n",
       "      <th>1</th>\n",
       "      <td>car</td>\n",
       "      <td>bike</td>\n",
       "      <td>GA</td>\n",
       "      <td>1.00</td>\n",
       "      <td>30000.0</td>\n",
       "      <td>Source Verified</td>\n",
       "      <td>Dec-11</td>\n",
       "      <td>Charged Off</td>\n",
       "      <td>2500</td>\n",
       "      <td>2500</td>\n",
       "      <td>2500.0</td>\n",
       "      <td>60</td>\n",
       "      <td>15.27</td>\n",
       "      <td>59.83</td>\n",
       "      <td>C</td>\n",
       "      <td>C4</td>\n",
       "      <td>Ryder</td>\n",
       "      <td>RENT</td>\n",
       "    </tr>\n",
       "  </tbody>\n",
       "</table>\n",
       "</div>"
      ],
      "text/plain": [
       "       purpose     title addr_state    dti  annual_inc verification_status  \\\n",
       "0  credit_card  Computer         AZ  27.65     24000.0            Verified   \n",
       "1          car      bike         GA   1.00     30000.0     Source Verified   \n",
       "\n",
       "  issue_d  loan_status  loan_amnt  funded_amnt  funded_amnt_inv term  \\\n",
       "0  Dec-11   Fully Paid       5000         5000           4975.0   36   \n",
       "1  Dec-11  Charged Off       2500         2500           2500.0   60   \n",
       "\n",
       "   int_rate  installment grade sub_grade emp_title home_ownership  \n",
       "0     10.65       162.87     B        B2       NaN           RENT  \n",
       "1     15.27        59.83     C        C4     Ryder           RENT  "
      ]
     },
     "execution_count": 35,
     "metadata": {},
     "output_type": "execute_result"
    }
   ],
   "source": [
    "df_new[[  'purpose', 'title',  'addr_state', 'dti','annual_inc', 'verification_status', 'issue_d', 'loan_status','loan_amnt', 'funded_amnt', 'funded_amnt_inv', 'term', 'int_rate','installment', 'grade', 'sub_grade', 'emp_title', 'home_ownership']].head(2)"
   ]
  },
  {
   "cell_type": "code",
   "execution_count": 36,
   "metadata": {},
   "outputs": [
    {
     "data": {
      "text/plain": [
       "debt_consolidation    137510\n",
       "credit_card            47150\n",
       "home_improvement       13681\n",
       "other                  13332\n",
       "major_purchase          5851\n",
       "small_business          4677\n",
       "car                     3447\n",
       "medical                 2670\n",
       "wedding                 1974\n",
       "moving                  1861\n",
       "house                   1500\n",
       "vacation                1443\n",
       "educational              357\n",
       "renewable_energy         254\n",
       "Name: purpose, dtype: int64"
      ]
     },
     "execution_count": 36,
     "metadata": {},
     "output_type": "execute_result"
    }
   ],
   "source": [
    "df_new[\"purpose\"].value_counts() #-- Binning"
   ]
  },
  {
   "cell_type": "code",
   "execution_count": 37,
   "metadata": {},
   "outputs": [
    {
     "data": {
      "text/plain": [
       "Debt consolidation                  59789\n",
       "Credit card refinancing             19424\n",
       "Debt Consolidation                  11260\n",
       "Home improvement                     5312\n",
       "Other                                4877\n",
       "                                    ...  \n",
       "Personal loan for consolidation         1\n",
       "Paid in Full!!                          1\n",
       "LOAN VACATION                           1\n",
       "Just to get through the month           1\n",
       "DREAMER                                 1\n",
       "Name: title, Length: 48790, dtype: int64"
      ]
     },
     "execution_count": 37,
     "metadata": {},
     "output_type": "execute_result"
    }
   ],
   "source": [
    "df_new[\"title\"].value_counts() #-- title by borrower.. similar to purpoe and random.. (DROP)"
   ]
  },
  {
   "cell_type": "code",
   "execution_count": 38,
   "metadata": {},
   "outputs": [],
   "source": [
    "df_new.drop(\"title\",axis=1,inplace=True)"
   ]
  },
  {
   "cell_type": "code",
   "execution_count": 39,
   "metadata": {},
   "outputs": [
    {
     "data": {
      "text/plain": [
       "Teacher                              1633\n",
       "Manager                              1597\n",
       "RN                                    712\n",
       "Registered Nurse                      708\n",
       "Supervisor                            703\n",
       "                                     ... \n",
       "Steward Home Care                       1\n",
       "antelope valley care center             1\n",
       "The Vitamin Shoppe                      1\n",
       "North Charleston Sewer District         1\n",
       "oakland county children's village       1\n",
       "Name: emp_title, Length: 128385, dtype: int64"
      ]
     },
     "execution_count": 39,
     "metadata": {},
     "output_type": "execute_result"
    }
   ],
   "source": [
    "df_new[\"emp_title\"].value_counts() #-- Binning"
   ]
  },
  {
   "cell_type": "code",
   "execution_count": 40,
   "metadata": {},
   "outputs": [
    {
     "data": {
      "text/plain": [
       "Text(0.5, 1.0, 'Count of default vs good by emp_title ')"
      ]
     },
     "execution_count": 40,
     "metadata": {},
     "output_type": "execute_result"
    },
    {
     "data": {
      "image/png": "[encoded data removed]",
      "text/plain": [
       "<Figure size 1440x432 with 1 Axes>"
      ]
     },
     "metadata": {
      "needs_background": "light"
     },
     "output_type": "display_data"
    }
   ],
   "source": [
    "major_emp=[\"Teacher\",\"Manager\",\"RN\",\"Registered Nurse\",\"Supervisor\"]\n",
    "plt.figure(figsize=(20,6))\n",
    "sns.countplot(x='emp_title',data=df_new[df_new[\"emp_title\"].isin(major_emp)], palette='rainbow',hue='target')\n",
    "plt.title(\"Count of default vs good by emp_title \")"
   ]
  },
  {
   "cell_type": "code",
   "execution_count": 41,
   "metadata": {},
   "outputs": [
    {
     "data": {
      "text/plain": [
       "Verified           87878\n",
       "Not Verified       81439\n",
       "Source Verified    66390\n",
       "Name: verification_status, dtype: int64"
      ]
     },
     "execution_count": 41,
     "metadata": {},
     "output_type": "execute_result"
    }
   ],
   "source": [
    "df_new[\"verification_status\"].value_counts() #-- Binning"
   ]
  },
  {
   "cell_type": "code",
   "execution_count": 42,
   "metadata": {},
   "outputs": [
    {
     "data": {
      "text/plain": [
       "MORTGAGE    115861\n",
       "RENT         99792\n",
       "OWN          19857\n",
       "OTHER          152\n",
       "NONE            44\n",
       "ANY              1\n",
       "Name: home_ownership, dtype: int64"
      ]
     },
     "execution_count": 42,
     "metadata": {},
     "output_type": "execute_result"
    }
   ],
   "source": [
    "df_new[\"home_ownership\"].value_counts() #-- Binning"
   ]
  },
  {
   "cell_type": "code",
   "execution_count": 43,
   "metadata": {},
   "outputs": [
    {
     "data": {
      "text/html": [
       "<div>\n",
       "<style scoped>\n",
       "    .dataframe tbody tr th:only-of-type {\n",
       "        vertical-align: middle;\n",
       "    }\n",
       "\n",
       "    .dataframe tbody tr th {\n",
       "        vertical-align: top;\n",
       "    }\n",
       "\n",
       "    .dataframe thead th {\n",
       "        text-align: right;\n",
       "    }\n",
       "</style>\n",
       "<table border=\"1\" class=\"dataframe\">\n",
       "  <thead>\n",
       "    <tr style=\"text-align: right;\">\n",
       "      <th></th>\n",
       "      <th>loan_status</th>\n",
       "      <th>target</th>\n",
       "    </tr>\n",
       "  </thead>\n",
       "  <tbody>\n",
       "    <tr>\n",
       "      <th>0</th>\n",
       "      <td>Fully Paid</td>\n",
       "      <td>1</td>\n",
       "    </tr>\n",
       "    <tr>\n",
       "      <th>1</th>\n",
       "      <td>Charged Off</td>\n",
       "      <td>0</td>\n",
       "    </tr>\n",
       "    <tr>\n",
       "      <th>2</th>\n",
       "      <td>Fully Paid</td>\n",
       "      <td>1</td>\n",
       "    </tr>\n",
       "    <tr>\n",
       "      <th>3</th>\n",
       "      <td>Fully Paid</td>\n",
       "      <td>1</td>\n",
       "    </tr>\n",
       "    <tr>\n",
       "      <th>5</th>\n",
       "      <td>Fully Paid</td>\n",
       "      <td>1</td>\n",
       "    </tr>\n",
       "    <tr>\n",
       "      <th>...</th>\n",
       "      <td>...</td>\n",
       "      <td>...</td>\n",
       "    </tr>\n",
       "    <tr>\n",
       "      <th>466276</th>\n",
       "      <td>Charged Off</td>\n",
       "      <td>0</td>\n",
       "    </tr>\n",
       "    <tr>\n",
       "      <th>466277</th>\n",
       "      <td>Charged Off</td>\n",
       "      <td>0</td>\n",
       "    </tr>\n",
       "    <tr>\n",
       "      <th>466278</th>\n",
       "      <td>Fully Paid</td>\n",
       "      <td>1</td>\n",
       "    </tr>\n",
       "    <tr>\n",
       "      <th>466281</th>\n",
       "      <td>Charged Off</td>\n",
       "      <td>0</td>\n",
       "    </tr>\n",
       "    <tr>\n",
       "      <th>466283</th>\n",
       "      <td>Fully Paid</td>\n",
       "      <td>1</td>\n",
       "    </tr>\n",
       "  </tbody>\n",
       "</table>\n",
       "<p>235707 rows × 2 columns</p>\n",
       "</div>"
      ],
      "text/plain": [
       "        loan_status  target\n",
       "0        Fully Paid       1\n",
       "1       Charged Off       0\n",
       "2        Fully Paid       1\n",
       "3        Fully Paid       1\n",
       "5        Fully Paid       1\n",
       "...             ...     ...\n",
       "466276  Charged Off       0\n",
       "466277  Charged Off       0\n",
       "466278   Fully Paid       1\n",
       "466281  Charged Off       0\n",
       "466283   Fully Paid       1\n",
       "\n",
       "[235707 rows x 2 columns]"
      ]
     },
     "execution_count": 43,
     "metadata": {},
     "output_type": "execute_result"
    }
   ],
   "source": [
    "df_new[[\"loan_status\",\"target\"]]"
   ]
  },
  {
   "cell_type": "code",
   "execution_count": 44,
   "metadata": {},
   "outputs": [],
   "source": [
    "df_new.drop(\"loan_status\",axis=1,inplace=True)"
   ]
  },
  {
   "cell_type": "code",
   "execution_count": 45,
   "metadata": {},
   "outputs": [],
   "source": [
    "import numpy as np\n",
    "import seaborn as sns\n",
    "import matplotlib.pyplot as plt\n",
    "%matplotlib inline"
   ]
  },
  {
   "cell_type": "code",
   "execution_count": 46,
   "metadata": {},
   "outputs": [
    {
     "data": {
      "text/plain": [
       "1    11076\n",
       "0     2605\n",
       "Name: target, dtype: int64"
      ]
     },
     "execution_count": 46,
     "metadata": {},
     "output_type": "execute_result"
    }
   ],
   "source": [
    "df_new[df_new[\"purpose\"]==\"home_improvement\"][\"target\"].value_counts()"
   ]
  },
  {
   "cell_type": "code",
   "execution_count": 47,
   "metadata": {},
   "outputs": [
    {
     "data": {
      "text/plain": [
       "1    106441\n",
       "0     31069\n",
       "Name: target, dtype: int64"
      ]
     },
     "execution_count": 47,
     "metadata": {},
     "output_type": "execute_result"
    }
   ],
   "source": [
    "df_new[df_new[\"purpose\"]==\"debt_consolidation\"][\"target\"].value_counts()"
   ]
  },
  {
   "cell_type": "code",
   "execution_count": 48,
   "metadata": {},
   "outputs": [
    {
     "data": {
      "text/plain": [
       "1    38169\n",
       "0     8981\n",
       "Name: target, dtype: int64"
      ]
     },
     "execution_count": 48,
     "metadata": {},
     "output_type": "execute_result"
    }
   ],
   "source": [
    "df_new[df_new[\"purpose\"]==\"credit_card\"][\"target\"].value_counts()"
   ]
  },
  {
   "cell_type": "code",
   "execution_count": 49,
   "metadata": {},
   "outputs": [
    {
     "data": {
      "text/plain": [
       "Text(0.5, 1.0, 'Count of default vs good by purpose ')"
      ]
     },
     "execution_count": 49,
     "metadata": {},
     "output_type": "execute_result"
    },
    {
     "data": {
      "image/png": "[encoded data removed]",
      "text/plain": [
       "<Figure size 1440x432 with 1 Axes>"
      ]
     },
     "metadata": {
      "needs_background": "light"
     },
     "output_type": "display_data"
    }
   ],
   "source": [
    "plt.figure(figsize=(20,6))\n",
    "sns.countplot(x='purpose',data=df_new, palette='rainbow',hue='target')\n",
    "plt.title(\"Count of default vs good by purpose \")"
   ]
  },
  {
   "cell_type": "code",
   "execution_count": 50,
   "metadata": {},
   "outputs": [
    {
     "data": {
      "text/plain": [
       "Text(0.5, 1.0, 'Count of default vs good by verification_status ')"
      ]
     },
     "execution_count": 50,
     "metadata": {},
     "output_type": "execute_result"
    },
    {
     "data": {
      "image/png": "[encoded data removed]",
      "text/plain": [
       "<Figure size 1440x432 with 1 Axes>"
      ]
     },
     "metadata": {
      "needs_background": "light"
     },
     "output_type": "display_data"
    }
   ],
   "source": [
    "plt.figure(figsize=(20,6))\n",
    "sns.countplot(x='verification_status',data=df_new, palette='rainbow',hue='target')\n",
    "plt.title(\"Count of default vs good by verification_status \")"
   ]
  },
  {
   "cell_type": "code",
   "execution_count": 51,
   "metadata": {},
   "outputs": [
    {
     "data": {
      "text/plain": [
       "Text(0.5, 1.0, 'Count of default vs good by verification_status ')"
      ]
     },
     "execution_count": 51,
     "metadata": {},
     "output_type": "execute_result"
    },
    {
     "data": {
      "image/png": "[encoded data removed]",
      "text/plain": [
       "<Figure size 1440x432 with 1 Axes>"
      ]
     },
     "metadata": {
      "needs_background": "light"
     },
     "output_type": "display_data"
    }
   ],
   "source": [
    "plt.figure(figsize=(20,6))\n",
    "sns.countplot(x='verification_status',data=df_new, palette='rainbow',hue='target')\n",
    "plt.title(\"Count of default vs good by verification_status \")"
   ]
  },
  {
   "cell_type": "code",
   "execution_count": 52,
   "metadata": {},
   "outputs": [
    {
     "data": {
      "text/plain": [
       "(235707, 44)"
      ]
     },
     "execution_count": 52,
     "metadata": {},
     "output_type": "execute_result"
    }
   ],
   "source": [
    "df_new.shape"
   ]
  },
  {
   "cell_type": "code",
   "execution_count": 53,
   "metadata": {},
   "outputs": [
    {
     "data": {
      "text/plain": [
       "(235707, 44)"
      ]
     },
     "execution_count": 53,
     "metadata": {},
     "output_type": "execute_result"
    }
   ],
   "source": [
    "df_new.shape"
   ]
  },
  {
   "cell_type": "code",
   "execution_count": 54,
   "metadata": {},
   "outputs": [
    {
     "data": {
      "text/html": [
       "<div>\n",
       "<style scoped>\n",
       "    .dataframe tbody tr th:only-of-type {\n",
       "        vertical-align: middle;\n",
       "    }\n",
       "\n",
       "    .dataframe tbody tr th {\n",
       "        vertical-align: top;\n",
       "    }\n",
       "\n",
       "    .dataframe thead th {\n",
       "        text-align: right;\n",
       "    }\n",
       "</style>\n",
       "<table border=\"1\" class=\"dataframe\">\n",
       "  <thead>\n",
       "    <tr style=\"text-align: right;\">\n",
       "      <th></th>\n",
       "      <th>addr_state</th>\n",
       "      <th>dti</th>\n",
       "      <th>delinq_2yrs</th>\n",
       "      <th>earliest_cr_line</th>\n",
       "      <th>inq_last_6mths</th>\n",
       "      <th>mths_since_last_delinq</th>\n",
       "      <th>open_acc</th>\n",
       "      <th>pub_rec</th>\n",
       "      <th>revol_bal</th>\n",
       "      <th>revol_util</th>\n",
       "      <th>total_acc</th>\n",
       "      <th>initial_list_status</th>\n",
       "      <th>out_prncp</th>\n",
       "    </tr>\n",
       "  </thead>\n",
       "  <tbody>\n",
       "    <tr>\n",
       "      <th>0</th>\n",
       "      <td>AZ</td>\n",
       "      <td>27.65</td>\n",
       "      <td>0.0</td>\n",
       "      <td>Jan-85</td>\n",
       "      <td>1.0</td>\n",
       "      <td>NaN</td>\n",
       "      <td>3.0</td>\n",
       "      <td>0.0</td>\n",
       "      <td>13648</td>\n",
       "      <td>83.7</td>\n",
       "      <td>9.0</td>\n",
       "      <td>f</td>\n",
       "      <td>0.0</td>\n",
       "    </tr>\n",
       "    <tr>\n",
       "      <th>1</th>\n",
       "      <td>GA</td>\n",
       "      <td>1.00</td>\n",
       "      <td>0.0</td>\n",
       "      <td>Apr-99</td>\n",
       "      <td>5.0</td>\n",
       "      <td>NaN</td>\n",
       "      <td>3.0</td>\n",
       "      <td>0.0</td>\n",
       "      <td>1687</td>\n",
       "      <td>9.4</td>\n",
       "      <td>4.0</td>\n",
       "      <td>f</td>\n",
       "      <td>0.0</td>\n",
       "    </tr>\n",
       "  </tbody>\n",
       "</table>\n",
       "</div>"
      ],
      "text/plain": [
       "  addr_state    dti  delinq_2yrs earliest_cr_line  inq_last_6mths  \\\n",
       "0         AZ  27.65          0.0           Jan-85             1.0   \n",
       "1         GA   1.00          0.0           Apr-99             5.0   \n",
       "\n",
       "   mths_since_last_delinq  open_acc  pub_rec  revol_bal  revol_util  \\\n",
       "0                     NaN       3.0      0.0      13648        83.7   \n",
       "1                     NaN       3.0      0.0       1687         9.4   \n",
       "\n",
       "   total_acc initial_list_status  out_prncp  \n",
       "0        9.0                   f        0.0  \n",
       "1        4.0                   f        0.0  "
      ]
     },
     "execution_count": 54,
     "metadata": {},
     "output_type": "execute_result"
    }
   ],
   "source": [
    "df_new[['addr_state', 'dti',\n",
    "       'delinq_2yrs', 'earliest_cr_line', 'inq_last_6mths',\n",
    "       'mths_since_last_delinq', 'open_acc', 'pub_rec', 'revol_bal',\n",
    "       'revol_util', 'total_acc', 'initial_list_status', 'out_prncp']].head(2)"
   ]
  },
  {
   "cell_type": "code",
   "execution_count": 55,
   "metadata": {},
   "outputs": [
    {
     "data": {
      "text/plain": [
       "f    175058\n",
       "w     60649\n",
       "Name: initial_list_status, dtype: int64"
      ]
     },
     "execution_count": 55,
     "metadata": {},
     "output_type": "execute_result"
    }
   ],
   "source": [
    "df_new[\"initial_list_status\"].value_counts() #-- binn"
   ]
  },
  {
   "cell_type": "code",
   "execution_count": 56,
   "metadata": {},
   "outputs": [
    {
     "data": {
      "text/html": [
       "<div>\n",
       "<style scoped>\n",
       "    .dataframe tbody tr th:only-of-type {\n",
       "        vertical-align: middle;\n",
       "    }\n",
       "\n",
       "    .dataframe tbody tr th {\n",
       "        vertical-align: top;\n",
       "    }\n",
       "\n",
       "    .dataframe thead th {\n",
       "        text-align: right;\n",
       "    }\n",
       "</style>\n",
       "<table border=\"1\" class=\"dataframe\">\n",
       "  <thead>\n",
       "    <tr style=\"text-align: right;\">\n",
       "      <th></th>\n",
       "      <th>out_prncp_inv</th>\n",
       "      <th>total_pymnt</th>\n",
       "      <th>total_pymnt_inv</th>\n",
       "      <th>last_pymnt_d</th>\n",
       "      <th>last_pymnt_amnt</th>\n",
       "      <th>next_pymnt_d</th>\n",
       "      <th>last_credit_pull_d</th>\n",
       "      <th>collections_12_mths_ex_med</th>\n",
       "      <th>policy_code</th>\n",
       "      <th>application_type</th>\n",
       "    </tr>\n",
       "  </thead>\n",
       "  <tbody>\n",
       "    <tr>\n",
       "      <th>0</th>\n",
       "      <td>0.0</td>\n",
       "      <td>5861.071414</td>\n",
       "      <td>5831.78</td>\n",
       "      <td>Jan-15</td>\n",
       "      <td>171.62</td>\n",
       "      <td>NaN</td>\n",
       "      <td>Jan-16</td>\n",
       "      <td>0.0</td>\n",
       "      <td>1</td>\n",
       "      <td>INDIVIDUAL</td>\n",
       "    </tr>\n",
       "    <tr>\n",
       "      <th>1</th>\n",
       "      <td>0.0</td>\n",
       "      <td>1008.710000</td>\n",
       "      <td>1008.71</td>\n",
       "      <td>Apr-13</td>\n",
       "      <td>119.66</td>\n",
       "      <td>NaN</td>\n",
       "      <td>Sep-13</td>\n",
       "      <td>0.0</td>\n",
       "      <td>1</td>\n",
       "      <td>INDIVIDUAL</td>\n",
       "    </tr>\n",
       "  </tbody>\n",
       "</table>\n",
       "</div>"
      ],
      "text/plain": [
       "   out_prncp_inv  total_pymnt  total_pymnt_inv last_pymnt_d  last_pymnt_amnt  \\\n",
       "0            0.0  5861.071414          5831.78       Jan-15           171.62   \n",
       "1            0.0  1008.710000          1008.71       Apr-13           119.66   \n",
       "\n",
       "  next_pymnt_d last_credit_pull_d  collections_12_mths_ex_med  policy_code  \\\n",
       "0          NaN             Jan-16                         0.0            1   \n",
       "1          NaN             Sep-13                         0.0            1   \n",
       "\n",
       "  application_type  \n",
       "0       INDIVIDUAL  \n",
       "1       INDIVIDUAL  "
      ]
     },
     "execution_count": 56,
     "metadata": {},
     "output_type": "execute_result"
    }
   ],
   "source": [
    "df_new[['out_prncp_inv', 'total_pymnt', 'total_pymnt_inv', 'last_pymnt_d',\n",
    "       'last_pymnt_amnt', 'next_pymnt_d', 'last_credit_pull_d',\n",
    "       'collections_12_mths_ex_med', 'policy_code', 'application_type']].head(2)"
   ]
  },
  {
   "cell_type": "code",
   "execution_count": 57,
   "metadata": {},
   "outputs": [
    {
     "data": {
      "text/plain": [
       "0.0    234332\n",
       "1.0      1220\n",
       "2.0        66\n",
       "3.0         7\n",
       "4.0         2\n",
       "5.0         1\n",
       "6.0         1\n",
       "Name: collections_12_mths_ex_med, dtype: int64"
      ]
     },
     "execution_count": 57,
     "metadata": {},
     "output_type": "execute_result"
    }
   ],
   "source": [
    "df_new[\"collections_12_mths_ex_med\"].value_counts() #-- binn"
   ]
  },
  {
   "cell_type": "code",
   "execution_count": 58,
   "metadata": {},
   "outputs": [
    {
     "data": {
      "text/plain": [
       "Text(0.5, 1.0, 'Count of default vs good by verification_status ')"
      ]
     },
     "execution_count": 58,
     "metadata": {},
     "output_type": "execute_result"
    },
    {
     "data": {
      "image/png": "[encoded data removed]",
      "text/plain": [
       "<Figure size 1440x432 with 1 Axes>"
      ]
     },
     "metadata": {
      "needs_background": "light"
     },
     "output_type": "display_data"
    }
   ],
   "source": [
    "# Highly skewed.. willl be biased when coll is 4\n",
    "plt.figure(figsize=(20,6))\n",
    "sns.countplot(x='collections_12_mths_ex_med',data=df_new[df_new[\"collections_12_mths_ex_med\"]>1], palette='rainbow',hue='target')\n",
    "plt.title(\"Count of default vs good by verification_status \")"
   ]
  },
  {
   "cell_type": "code",
   "execution_count": 59,
   "metadata": {},
   "outputs": [
    {
     "data": {
      "text/plain": [
       "12.0     1908\n",
       "8.0      1904\n",
       "9.0      1902\n",
       "14.0     1899\n",
       "10.0     1891\n",
       "         ... \n",
       "103.0       1\n",
       "113.0       1\n",
       "100.0       1\n",
       "109.0       1\n",
       "152.0       1\n",
       "Name: mths_since_last_delinq, Length: 125, dtype: int64"
      ]
     },
     "execution_count": 59,
     "metadata": {},
     "output_type": "execute_result"
    }
   ],
   "source": [
    "df_new[\"mths_since_last_delinq\"].value_counts() #-- binn"
   ]
  },
  {
   "cell_type": "code",
   "execution_count": 60,
   "metadata": {},
   "outputs": [
    {
     "data": {
      "text/plain": [
       "Text(0.5, 1.0, 'Count of default vs good by inq_last_6mths ')"
      ]
     },
     "execution_count": 60,
     "metadata": {},
     "output_type": "execute_result"
    },
    {
     "data": {
      "image/png": "[encoded data removed]",
      "text/plain": [
       "<Figure size 1440x432 with 1 Axes>"
      ]
     },
     "metadata": {
      "needs_background": "light"
     },
     "output_type": "display_data"
    }
   ],
   "source": [
    "# skewed but informative.. can see more inq.. more default .. credit hungary borrower\n",
    "plt.figure(figsize=(20,6))\n",
    "sns.countplot(x='inq_last_6mths',data=df_new[df_new[\"inq_last_6mths\"]>6], palette='rainbow',hue='target')\n",
    "plt.title(\"Count of default vs good by inq_last_6mths \")"
   ]
  },
  {
   "cell_type": "code",
   "execution_count": null,
   "metadata": {},
   "outputs": [],
   "source": []
  },
  {
   "cell_type": "code",
   "execution_count": 61,
   "metadata": {},
   "outputs": [
    {
     "data": {
      "text/html": [
       "<div>\n",
       "<style scoped>\n",
       "    .dataframe tbody tr th:only-of-type {\n",
       "        vertical-align: middle;\n",
       "    }\n",
       "\n",
       "    .dataframe tbody tr th {\n",
       "        vertical-align: top;\n",
       "    }\n",
       "\n",
       "    .dataframe thead th {\n",
       "        text-align: right;\n",
       "    }\n",
       "</style>\n",
       "<table border=\"1\" class=\"dataframe\">\n",
       "  <thead>\n",
       "    <tr style=\"text-align: right;\">\n",
       "      <th></th>\n",
       "      <th>acc_now_delinq</th>\n",
       "      <th>tot_coll_amt</th>\n",
       "      <th>tot_cur_bal</th>\n",
       "      <th>total_rev_hi_lim</th>\n",
       "      <th>target</th>\n",
       "      <th>emp_years</th>\n",
       "    </tr>\n",
       "  </thead>\n",
       "  <tbody>\n",
       "    <tr>\n",
       "      <th>0</th>\n",
       "      <td>0.0</td>\n",
       "      <td>NaN</td>\n",
       "      <td>NaN</td>\n",
       "      <td>NaN</td>\n",
       "      <td>1</td>\n",
       "      <td>10</td>\n",
       "    </tr>\n",
       "    <tr>\n",
       "      <th>1</th>\n",
       "      <td>0.0</td>\n",
       "      <td>NaN</td>\n",
       "      <td>NaN</td>\n",
       "      <td>NaN</td>\n",
       "      <td>0</td>\n",
       "      <td>1</td>\n",
       "    </tr>\n",
       "  </tbody>\n",
       "</table>\n",
       "</div>"
      ],
      "text/plain": [
       "   acc_now_delinq  tot_coll_amt  tot_cur_bal  total_rev_hi_lim  target  \\\n",
       "0             0.0           NaN          NaN               NaN       1   \n",
       "1             0.0           NaN          NaN               NaN       0   \n",
       "\n",
       "  emp_years  \n",
       "0        10  \n",
       "1         1  "
      ]
     },
     "execution_count": 61,
     "metadata": {},
     "output_type": "execute_result"
    }
   ],
   "source": [
    "df_new[['acc_now_delinq', 'tot_coll_amt', 'tot_cur_bal', 'total_rev_hi_lim',\n",
    "       'target', 'emp_years']].head(2)"
   ]
  },
  {
   "cell_type": "code",
   "execution_count": 62,
   "metadata": {},
   "outputs": [
    {
     "data": {
      "text/plain": [
       "0.0    235068\n",
       "1.0       601\n",
       "2.0        29\n",
       "3.0         3\n",
       "5.0         2\n",
       "4.0         1\n",
       "Name: acc_now_delinq, dtype: int64"
      ]
     },
     "execution_count": 62,
     "metadata": {},
     "output_type": "execute_result"
    }
   ],
   "source": [
    "df_new[\"acc_now_delinq\"].value_counts() #-- binn"
   ]
  },
  {
   "cell_type": "code",
   "execution_count": 63,
   "metadata": {},
   "outputs": [
    {
     "data": {
      "text/plain": [
       "Text(0.5, 1.0, 'Count of default vs good by acc_now_delinq ')"
      ]
     },
     "execution_count": 63,
     "metadata": {},
     "output_type": "execute_result"
    },
    {
     "data": {
      "image/png": "[encoded data removed]",
      "text/plain": [
       "<Figure size 1440x432 with 1 Axes>"
      ]
     },
     "metadata": {
      "needs_background": "light"
     },
     "output_type": "display_data"
    }
   ],
   "source": [
    "# \n",
    "plt.figure(figsize=(20,6))\n",
    "sns.countplot(x='acc_now_delinq',data=df_new[df_new[\"acc_now_delinq\"]>2], palette='rainbow',hue='target')\n",
    "plt.title(\"Count of default vs good by acc_now_delinq \")"
   ]
  },
  {
   "cell_type": "code",
   "execution_count": 64,
   "metadata": {},
   "outputs": [],
   "source": [
    "df_new[\"application_type\"].value_counts() # all individual hence drop the column\n",
    "df_new.drop(\"application_type\",inplace=True,axis=1)"
   ]
  },
  {
   "cell_type": "code",
   "execution_count": 65,
   "metadata": {},
   "outputs": [
    {
     "data": {
      "image/png": "[encoded data removed]",
      "text/plain": [
       "<Figure size 1296x360 with 1 Axes>"
      ]
     },
     "metadata": {
      "needs_background": "light"
     },
     "output_type": "display_data"
    }
   ],
   "source": [
    "import matplotlib.pyplot as plt\n",
    "import seaborn as sns\n",
    "plt.figure(figsize=(18,5))\n",
    "plt.scatter(x=\"tot_cur_bal\", y=\"target\", data=df_new)\n",
    "plt.show()"
   ]
  },
  {
   "cell_type": "code",
   "execution_count": 66,
   "metadata": {},
   "outputs": [
    {
     "name": "stdout",
     "output_type": "stream",
     "text": [
      "There are 27 numerical variables\n",
      "\n",
      "The numerical variables are :\n",
      "\n",
      " ['loan_amnt', 'funded_amnt', 'funded_amnt_inv', 'int_rate', 'installment', 'annual_inc', 'dti', 'delinq_2yrs', 'inq_last_6mths', 'mths_since_last_delinq', 'open_acc', 'pub_rec', 'revol_bal', 'revol_util', 'total_acc', 'out_prncp', 'out_prncp_inv', 'total_pymnt', 'total_pymnt_inv', 'last_pymnt_amnt', 'collections_12_mths_ex_med', 'policy_code', 'acc_now_delinq', 'tot_coll_amt', 'tot_cur_bal', 'total_rev_hi_lim', 'target']\n"
     ]
    }
   ],
   "source": [
    "numerical = [var_1 for var_1 in df_new.columns if df_new[var_1].dtype=='int64' or df_new[var_1].dtype=='float64']\n",
    "\n",
    "print('There are {} numerical variables\\n'.format(len(numerical)))\n",
    "\n",
    "print('The numerical variables are :\\n\\n', numerical)"
   ]
  },
  {
   "cell_type": "code",
   "execution_count": 67,
   "metadata": {},
   "outputs": [
    {
     "name": "stdout",
     "output_type": "stream",
     "text": [
      "There are 16 categorical variables\n",
      "\n",
      "The categorical variables are :\n",
      "\n",
      " ['term', 'grade', 'sub_grade', 'emp_title', 'home_ownership', 'verification_status', 'issue_d', 'pymnt_plan', 'purpose', 'addr_state', 'earliest_cr_line', 'initial_list_status', 'last_pymnt_d', 'next_pymnt_d', 'last_credit_pull_d', 'emp_years']\n"
     ]
    }
   ],
   "source": [
    "objectt = [var_1 for var_1 in df_new.columns if df_new[var_1].dtype=='O']\n",
    "\n",
    "print('There are {} categorical variables\\n'.format(len(objectt)))\n",
    "\n",
    "print('The categorical variables are :\\n\\n', objectt)"
   ]
  },
  {
   "cell_type": "code",
   "execution_count": 68,
   "metadata": {},
   "outputs": [],
   "source": [
    "from sklearn import preprocessing"
   ]
  },
  {
   "cell_type": "code",
   "execution_count": 69,
   "metadata": {},
   "outputs": [
    {
     "data": {
      "text/html": [
       "<div>\n",
       "<style scoped>\n",
       "    .dataframe tbody tr th:only-of-type {\n",
       "        vertical-align: middle;\n",
       "    }\n",
       "\n",
       "    .dataframe tbody tr th {\n",
       "        vertical-align: top;\n",
       "    }\n",
       "\n",
       "    .dataframe thead th {\n",
       "        text-align: right;\n",
       "    }\n",
       "</style>\n",
       "<table border=\"1\" class=\"dataframe\">\n",
       "  <thead>\n",
       "    <tr style=\"text-align: right;\">\n",
       "      <th></th>\n",
       "      <th>term</th>\n",
       "      <th>grade</th>\n",
       "      <th>sub_grade</th>\n",
       "      <th>emp_title</th>\n",
       "      <th>home_ownership</th>\n",
       "      <th>verification_status</th>\n",
       "      <th>issue_d</th>\n",
       "      <th>pymnt_plan</th>\n",
       "      <th>purpose</th>\n",
       "      <th>addr_state</th>\n",
       "      <th>earliest_cr_line</th>\n",
       "      <th>initial_list_status</th>\n",
       "      <th>last_pymnt_d</th>\n",
       "      <th>next_pymnt_d</th>\n",
       "      <th>last_credit_pull_d</th>\n",
       "      <th>emp_years</th>\n",
       "    </tr>\n",
       "  </thead>\n",
       "  <tbody>\n",
       "    <tr>\n",
       "      <th>0</th>\n",
       "      <td>36</td>\n",
       "      <td>B</td>\n",
       "      <td>B2</td>\n",
       "      <td>NaN</td>\n",
       "      <td>RENT</td>\n",
       "      <td>Verified</td>\n",
       "      <td>Dec-11</td>\n",
       "      <td>n</td>\n",
       "      <td>credit_card</td>\n",
       "      <td>AZ</td>\n",
       "      <td>Jan-85</td>\n",
       "      <td>f</td>\n",
       "      <td>Jan-15</td>\n",
       "      <td>NaN</td>\n",
       "      <td>Jan-16</td>\n",
       "      <td>10</td>\n",
       "    </tr>\n",
       "    <tr>\n",
       "      <th>1</th>\n",
       "      <td>60</td>\n",
       "      <td>C</td>\n",
       "      <td>C4</td>\n",
       "      <td>Ryder</td>\n",
       "      <td>RENT</td>\n",
       "      <td>Source Verified</td>\n",
       "      <td>Dec-11</td>\n",
       "      <td>n</td>\n",
       "      <td>car</td>\n",
       "      <td>GA</td>\n",
       "      <td>Apr-99</td>\n",
       "      <td>f</td>\n",
       "      <td>Apr-13</td>\n",
       "      <td>NaN</td>\n",
       "      <td>Sep-13</td>\n",
       "      <td>1</td>\n",
       "    </tr>\n",
       "    <tr>\n",
       "      <th>2</th>\n",
       "      <td>36</td>\n",
       "      <td>C</td>\n",
       "      <td>C5</td>\n",
       "      <td>NaN</td>\n",
       "      <td>RENT</td>\n",
       "      <td>Not Verified</td>\n",
       "      <td>Dec-11</td>\n",
       "      <td>n</td>\n",
       "      <td>small_business</td>\n",
       "      <td>IL</td>\n",
       "      <td>Nov-01</td>\n",
       "      <td>f</td>\n",
       "      <td>Jun-14</td>\n",
       "      <td>NaN</td>\n",
       "      <td>Jan-16</td>\n",
       "      <td>10</td>\n",
       "    </tr>\n",
       "    <tr>\n",
       "      <th>3</th>\n",
       "      <td>36</td>\n",
       "      <td>C</td>\n",
       "      <td>C1</td>\n",
       "      <td>AIR RESOURCES BOARD</td>\n",
       "      <td>RENT</td>\n",
       "      <td>Source Verified</td>\n",
       "      <td>Dec-11</td>\n",
       "      <td>n</td>\n",
       "      <td>other</td>\n",
       "      <td>CA</td>\n",
       "      <td>Feb-96</td>\n",
       "      <td>f</td>\n",
       "      <td>Jan-15</td>\n",
       "      <td>NaN</td>\n",
       "      <td>Jan-15</td>\n",
       "      <td>10</td>\n",
       "    </tr>\n",
       "    <tr>\n",
       "      <th>5</th>\n",
       "      <td>36</td>\n",
       "      <td>A</td>\n",
       "      <td>A4</td>\n",
       "      <td>Veolia Transportaton</td>\n",
       "      <td>RENT</td>\n",
       "      <td>Source Verified</td>\n",
       "      <td>Dec-11</td>\n",
       "      <td>n</td>\n",
       "      <td>wedding</td>\n",
       "      <td>AZ</td>\n",
       "      <td>Nov-04</td>\n",
       "      <td>f</td>\n",
       "      <td>Jan-15</td>\n",
       "      <td>NaN</td>\n",
       "      <td>Sep-15</td>\n",
       "      <td>3</td>\n",
       "    </tr>\n",
       "    <tr>\n",
       "      <th>...</th>\n",
       "      <td>...</td>\n",
       "      <td>...</td>\n",
       "      <td>...</td>\n",
       "      <td>...</td>\n",
       "      <td>...</td>\n",
       "      <td>...</td>\n",
       "      <td>...</td>\n",
       "      <td>...</td>\n",
       "      <td>...</td>\n",
       "      <td>...</td>\n",
       "      <td>...</td>\n",
       "      <td>...</td>\n",
       "      <td>...</td>\n",
       "      <td>...</td>\n",
       "      <td>...</td>\n",
       "      <td>...</td>\n",
       "    </tr>\n",
       "    <tr>\n",
       "      <th>466276</th>\n",
       "      <td>60</td>\n",
       "      <td>D</td>\n",
       "      <td>D3</td>\n",
       "      <td>MANAGER</td>\n",
       "      <td>MORTGAGE</td>\n",
       "      <td>Verified</td>\n",
       "      <td>Jan-14</td>\n",
       "      <td>n</td>\n",
       "      <td>medical</td>\n",
       "      <td>MA</td>\n",
       "      <td>Nov-94</td>\n",
       "      <td>f</td>\n",
       "      <td>May-14</td>\n",
       "      <td>NaN</td>\n",
       "      <td>Oct-14</td>\n",
       "      <td>5</td>\n",
       "    </tr>\n",
       "    <tr>\n",
       "      <th>466277</th>\n",
       "      <td>36</td>\n",
       "      <td>A</td>\n",
       "      <td>A4</td>\n",
       "      <td>sales rep</td>\n",
       "      <td>RENT</td>\n",
       "      <td>Verified</td>\n",
       "      <td>Jan-14</td>\n",
       "      <td>n</td>\n",
       "      <td>debt_consolidation</td>\n",
       "      <td>MD</td>\n",
       "      <td>Jul-98</td>\n",
       "      <td>f</td>\n",
       "      <td>Nov-14</td>\n",
       "      <td>NaN</td>\n",
       "      <td>Oct-14</td>\n",
       "      <td>3</td>\n",
       "    </tr>\n",
       "    <tr>\n",
       "      <th>466278</th>\n",
       "      <td>36</td>\n",
       "      <td>D</td>\n",
       "      <td>D3</td>\n",
       "      <td>MecÃ¡nica</td>\n",
       "      <td>RENT</td>\n",
       "      <td>Source Verified</td>\n",
       "      <td>Jan-14</td>\n",
       "      <td>n</td>\n",
       "      <td>vacation</td>\n",
       "      <td>VA</td>\n",
       "      <td>Jun-02</td>\n",
       "      <td>f</td>\n",
       "      <td>Sep-15</td>\n",
       "      <td>NaN</td>\n",
       "      <td>Jan-16</td>\n",
       "      <td>10</td>\n",
       "    </tr>\n",
       "    <tr>\n",
       "      <th>466281</th>\n",
       "      <td>60</td>\n",
       "      <td>D</td>\n",
       "      <td>D5</td>\n",
       "      <td>Chief of Interpretation (Park Ranger)</td>\n",
       "      <td>MORTGAGE</td>\n",
       "      <td>Verified</td>\n",
       "      <td>Jan-14</td>\n",
       "      <td>n</td>\n",
       "      <td>debt_consolidation</td>\n",
       "      <td>TN</td>\n",
       "      <td>Jun-97</td>\n",
       "      <td>f</td>\n",
       "      <td>Dec-14</td>\n",
       "      <td>NaN</td>\n",
       "      <td>Jan-16</td>\n",
       "      <td>10</td>\n",
       "    </tr>\n",
       "    <tr>\n",
       "      <th>466283</th>\n",
       "      <td>36</td>\n",
       "      <td>A</td>\n",
       "      <td>A4</td>\n",
       "      <td>Server Engineer Lead</td>\n",
       "      <td>OWN</td>\n",
       "      <td>Verified</td>\n",
       "      <td>Jan-14</td>\n",
       "      <td>n</td>\n",
       "      <td>credit_card</td>\n",
       "      <td>CA</td>\n",
       "      <td>Feb-03</td>\n",
       "      <td>w</td>\n",
       "      <td>Dec-14</td>\n",
       "      <td>NaN</td>\n",
       "      <td>Apr-15</td>\n",
       "      <td>3</td>\n",
       "    </tr>\n",
       "  </tbody>\n",
       "</table>\n",
       "<p>235707 rows × 16 columns</p>\n",
       "</div>"
      ],
      "text/plain": [
       "       term grade sub_grade                              emp_title  \\\n",
       "0        36     B        B2                                    NaN   \n",
       "1        60     C        C4                                  Ryder   \n",
       "2        36     C        C5                                    NaN   \n",
       "3        36     C        C1                    AIR RESOURCES BOARD   \n",
       "5        36     A        A4                   Veolia Transportaton   \n",
       "...     ...   ...       ...                                    ...   \n",
       "466276   60     D        D3                                MANAGER   \n",
       "466277   36     A        A4                              sales rep   \n",
       "466278   36     D        D3                              MecÃ¡nica   \n",
       "466281   60     D        D5  Chief of Interpretation (Park Ranger)   \n",
       "466283   36     A        A4                   Server Engineer Lead   \n",
       "\n",
       "       home_ownership verification_status issue_d pymnt_plan  \\\n",
       "0                RENT            Verified  Dec-11          n   \n",
       "1                RENT     Source Verified  Dec-11          n   \n",
       "2                RENT        Not Verified  Dec-11          n   \n",
       "3                RENT     Source Verified  Dec-11          n   \n",
       "5                RENT     Source Verified  Dec-11          n   \n",
       "...               ...                 ...     ...        ...   \n",
       "466276       MORTGAGE            Verified  Jan-14          n   \n",
       "466277           RENT            Verified  Jan-14          n   \n",
       "466278           RENT     Source Verified  Jan-14          n   \n",
       "466281       MORTGAGE            Verified  Jan-14          n   \n",
       "466283            OWN            Verified  Jan-14          n   \n",
       "\n",
       "                   purpose addr_state earliest_cr_line initial_list_status  \\\n",
       "0              credit_card         AZ           Jan-85                   f   \n",
       "1                      car         GA           Apr-99                   f   \n",
       "2           small_business         IL           Nov-01                   f   \n",
       "3                    other         CA           Feb-96                   f   \n",
       "5                  wedding         AZ           Nov-04                   f   \n",
       "...                    ...        ...              ...                 ...   \n",
       "466276             medical         MA           Nov-94                   f   \n",
       "466277  debt_consolidation         MD           Jul-98                   f   \n",
       "466278            vacation         VA           Jun-02                   f   \n",
       "466281  debt_consolidation         TN           Jun-97                   f   \n",
       "466283         credit_card         CA           Feb-03                   w   \n",
       "\n",
       "       last_pymnt_d next_pymnt_d last_credit_pull_d emp_years  \n",
       "0            Jan-15          NaN             Jan-16        10  \n",
       "1            Apr-13          NaN             Sep-13         1  \n",
       "2            Jun-14          NaN             Jan-16        10  \n",
       "3            Jan-15          NaN             Jan-15        10  \n",
       "5            Jan-15          NaN             Sep-15         3  \n",
       "...             ...          ...                ...       ...  \n",
       "466276       May-14          NaN             Oct-14         5  \n",
       "466277       Nov-14          NaN             Oct-14         3  \n",
       "466278       Sep-15          NaN             Jan-16        10  \n",
       "466281       Dec-14          NaN             Jan-16        10  \n",
       "466283       Dec-14          NaN             Apr-15         3  \n",
       "\n",
       "[235707 rows x 16 columns]"
      ]
     },
     "execution_count": 69,
     "metadata": {},
     "output_type": "execute_result"
    }
   ],
   "source": [
    "df_new[objectt]"
   ]
  },
  {
   "cell_type": "code",
   "execution_count": 70,
   "metadata": {},
   "outputs": [],
   "source": [
    "# Feature selection\n",
    "from sklearn.feature_selection import chi2\n"
   ]
  },
  {
   "cell_type": "code",
   "execution_count": 71,
   "metadata": {},
   "outputs": [],
   "source": [
    "y = df_new['target']\n",
    "X = df_new.drop('target',axis=1)"
   ]
  },
  {
   "cell_type": "code",
   "execution_count": 72,
   "metadata": {},
   "outputs": [],
   "source": [
    "#chi_scores = chi2(X,y)"
   ]
  },
  {
   "cell_type": "code",
   "execution_count": 73,
   "metadata": {},
   "outputs": [],
   "source": [
    "df_updated=df_new\n",
    "df_updated.reset_index(drop=True, inplace=True)"
   ]
  },
  {
   "cell_type": "code",
   "execution_count": 74,
   "metadata": {},
   "outputs": [],
   "source": [
    "from sklearn import preprocessing\n",
    "import numpy as np\n",
    "dict_recat = {}\n",
    "for var in objectt:\n",
    "    lb_make = preprocessing.LabelEncoder()\n",
    "    df_updated[var] = lb_make.fit_transform(df_updated[var])\n",
    "    mapping = dict(zip(lb_make.classes_, range(len(lb_make.classes_))))\n",
    "    #print(mapping)\n",
    "    dict_recat.update({var : np.array([*mapping])})"
   ]
  },
  {
   "cell_type": "code",
   "execution_count": 75,
   "metadata": {},
   "outputs": [
    {
     "data": {
      "text/plain": [
       "{'term': array([' 36', ' 60'], dtype='<U3'),\n",
       " 'grade': array(['A', 'B', 'C', 'D', 'E', 'F', 'G'], dtype='<U1'),\n",
       " 'sub_grade': array(['A1', 'A2', 'A3', 'A4', 'A5', 'B1', 'B2', 'B3', 'B4', 'B5', 'C1',\n",
       "        'C2', 'C3', 'C4', 'C5', 'D1', 'D2', 'D3', 'D4', 'D5', 'E1', 'E2',\n",
       "        'E3', 'E4', 'E5', 'F1', 'F2', 'F3', 'F4', 'F5', 'G1', 'G2', 'G3',\n",
       "        'G4', 'G5'], dtype='<U2'),\n",
       " 'emp_title': array(['       NSA Industries llc', '   Bus Operator and Instructor',\n",
       "        '   Long Ilsand College Hospital', ..., 'zozaya officiating',\n",
       "        'zueck transportation', 'nan'], dtype='<U78'),\n",
       " 'home_ownership': array(['ANY', 'MORTGAGE', 'NONE', 'OTHER', 'OWN', 'RENT'], dtype='<U8'),\n",
       " 'verification_status': array(['Not Verified', 'Source Verified', 'Verified'], dtype='<U15'),\n",
       " 'issue_d': array(['Apr-08', 'Apr-09', 'Apr-10', 'Apr-11', 'Apr-12', 'Apr-13',\n",
       "        'Apr-14', 'Aug-07', 'Aug-08', 'Aug-09', 'Aug-10', 'Aug-11',\n",
       "        'Aug-12', 'Aug-13', 'Aug-14', 'Dec-07', 'Dec-08', 'Dec-09',\n",
       "        'Dec-10', 'Dec-11', 'Dec-12', 'Dec-13', 'Dec-14', 'Feb-08',\n",
       "        'Feb-09', 'Feb-10', 'Feb-11', 'Feb-12', 'Feb-13', 'Feb-14',\n",
       "        'Jan-08', 'Jan-09', 'Jan-10', 'Jan-11', 'Jan-12', 'Jan-13',\n",
       "        'Jan-14', 'Jul-07', 'Jul-08', 'Jul-09', 'Jul-10', 'Jul-11',\n",
       "        'Jul-12', 'Jul-13', 'Jul-14', 'Jun-07', 'Jun-08', 'Jun-09',\n",
       "        'Jun-10', 'Jun-11', 'Jun-12', 'Jun-13', 'Jun-14', 'Mar-08',\n",
       "        'Mar-09', 'Mar-10', 'Mar-11', 'Mar-12', 'Mar-13', 'Mar-14',\n",
       "        'May-08', 'May-09', 'May-10', 'May-11', 'May-12', 'May-13',\n",
       "        'May-14', 'Nov-07', 'Nov-08', 'Nov-09', 'Nov-10', 'Nov-11',\n",
       "        'Nov-12', 'Nov-13', 'Nov-14', 'Oct-07', 'Oct-08', 'Oct-09',\n",
       "        'Oct-10', 'Oct-11', 'Oct-12', 'Oct-13', 'Oct-14', 'Sep-07',\n",
       "        'Sep-08', 'Sep-09', 'Sep-10', 'Sep-11', 'Sep-12', 'Sep-13',\n",
       "        'Sep-14'], dtype='<U6'),\n",
       " 'pymnt_plan': array(['n', 'y'], dtype='<U1'),\n",
       " 'purpose': array(['car', 'credit_card', 'debt_consolidation', 'educational',\n",
       "        'home_improvement', 'house', 'major_purchase', 'medical', 'moving',\n",
       "        'other', 'renewable_energy', 'small_business', 'vacation',\n",
       "        'wedding'], dtype='<U18'),\n",
       " 'addr_state': array(['AK', 'AL', 'AR', 'AZ', 'CA', 'CO', 'CT', 'DC', 'DE', 'FL', 'GA',\n",
       "        'HI', 'IA', 'ID', 'IL', 'IN', 'KS', 'KY', 'LA', 'MA', 'MD', 'ME',\n",
       "        'MI', 'MN', 'MO', 'MS', 'MT', 'NC', 'NE', 'NH', 'NJ', 'NM', 'NV',\n",
       "        'NY', 'OH', 'OK', 'OR', 'PA', 'RI', 'SC', 'SD', 'TN', 'TX', 'UT',\n",
       "        'VA', 'VT', 'WA', 'WI', 'WV', 'WY'], dtype='<U2'),\n",
       " 'earliest_cr_line': array(['Apr-00', 'Apr-01', 'Apr-02', 'Apr-03', 'Apr-04', 'Apr-05',\n",
       "        'Apr-06', 'Apr-07', 'Apr-08', 'Apr-09', 'Apr-10', 'Apr-11',\n",
       "        'Apr-55', 'Apr-62', 'Apr-63', 'Apr-64', 'Apr-65', 'Apr-66',\n",
       "        'Apr-67', 'Apr-68', 'Apr-69', 'Apr-70', 'Apr-71', 'Apr-72',\n",
       "        'Apr-73', 'Apr-74', 'Apr-75', 'Apr-76', 'Apr-77', 'Apr-78',\n",
       "        'Apr-79', 'Apr-80', 'Apr-81', 'Apr-82', 'Apr-83', 'Apr-84',\n",
       "        'Apr-85', 'Apr-86', 'Apr-87', 'Apr-88', 'Apr-89', 'Apr-90',\n",
       "        'Apr-91', 'Apr-92', 'Apr-93', 'Apr-94', 'Apr-95', 'Apr-96',\n",
       "        'Apr-97', 'Apr-98', 'Apr-99', 'Aug-00', 'Aug-01', 'Aug-02',\n",
       "        'Aug-03', 'Aug-04', 'Aug-05', 'Aug-06', 'Aug-07', 'Aug-08',\n",
       "        'Aug-09', 'Aug-10', 'Aug-11', 'Aug-58', 'Aug-60', 'Aug-62',\n",
       "        'Aug-63', 'Aug-64', 'Aug-65', 'Aug-66', 'Aug-67', 'Aug-68',\n",
       "        'Aug-69', 'Aug-70', 'Aug-71', 'Aug-72', 'Aug-73', 'Aug-74',\n",
       "        'Aug-75', 'Aug-76', 'Aug-77', 'Aug-78', 'Aug-79', 'Aug-80',\n",
       "        'Aug-81', 'Aug-82', 'Aug-83', 'Aug-84', 'Aug-85', 'Aug-86',\n",
       "        'Aug-87', 'Aug-88', 'Aug-89', 'Aug-90', 'Aug-91', 'Aug-92',\n",
       "        'Aug-93', 'Aug-94', 'Aug-95', 'Aug-96', 'Aug-97', 'Aug-98',\n",
       "        'Aug-99', 'Dec-00', 'Dec-01', 'Dec-02', 'Dec-03', 'Dec-04',\n",
       "        'Dec-05', 'Dec-06', 'Dec-07', 'Dec-08', 'Dec-09', 'Dec-10',\n",
       "        'Dec-50', 'Dec-56', 'Dec-58', 'Dec-60', 'Dec-61', 'Dec-62',\n",
       "        'Dec-63', 'Dec-64', 'Dec-65', 'Dec-66', 'Dec-67', 'Dec-68',\n",
       "        'Dec-69', 'Dec-70', 'Dec-71', 'Dec-72', 'Dec-73', 'Dec-74',\n",
       "        'Dec-75', 'Dec-76', 'Dec-77', 'Dec-78', 'Dec-79', 'Dec-80',\n",
       "        'Dec-81', 'Dec-82', 'Dec-83', 'Dec-84', 'Dec-85', 'Dec-86',\n",
       "        'Dec-87', 'Dec-88', 'Dec-89', 'Dec-90', 'Dec-91', 'Dec-92',\n",
       "        'Dec-93', 'Dec-94', 'Dec-95', 'Dec-96', 'Dec-97', 'Dec-98',\n",
       "        'Dec-99', 'Feb-00', 'Feb-01', 'Feb-02', 'Feb-03', 'Feb-04',\n",
       "        'Feb-05', 'Feb-06', 'Feb-07', 'Feb-08', 'Feb-09', 'Feb-10',\n",
       "        'Feb-11', 'Feb-57', 'Feb-64', 'Feb-65', 'Feb-66', 'Feb-67',\n",
       "        'Feb-68', 'Feb-69', 'Feb-70', 'Feb-71', 'Feb-72', 'Feb-73',\n",
       "        'Feb-74', 'Feb-75', 'Feb-76', 'Feb-77', 'Feb-78', 'Feb-79',\n",
       "        'Feb-80', 'Feb-81', 'Feb-82', 'Feb-83', 'Feb-84', 'Feb-85',\n",
       "        'Feb-86', 'Feb-87', 'Feb-88', 'Feb-89', 'Feb-90', 'Feb-91',\n",
       "        'Feb-92', 'Feb-93', 'Feb-94', 'Feb-95', 'Feb-96', 'Feb-97',\n",
       "        'Feb-98', 'Feb-99', 'Jan-00', 'Jan-01', 'Jan-02', 'Jan-03',\n",
       "        'Jan-04', 'Jan-05', 'Jan-06', 'Jan-07', 'Jan-08', 'Jan-09',\n",
       "        'Jan-10', 'Jan-11', 'Jan-46', 'Jan-48', 'Jan-54', 'Jan-55',\n",
       "        'Jan-56', 'Jan-59', 'Jan-60', 'Jan-61', 'Jan-62', 'Jan-63',\n",
       "        'Jan-64', 'Jan-65', 'Jan-66', 'Jan-67', 'Jan-68', 'Jan-69',\n",
       "        'Jan-70', 'Jan-71', 'Jan-72', 'Jan-73', 'Jan-74', 'Jan-75',\n",
       "        'Jan-76', 'Jan-77', 'Jan-78', 'Jan-79', 'Jan-80', 'Jan-81',\n",
       "        'Jan-82', 'Jan-83', 'Jan-84', 'Jan-85', 'Jan-86', 'Jan-87',\n",
       "        'Jan-88', 'Jan-89', 'Jan-90', 'Jan-91', 'Jan-92', 'Jan-93',\n",
       "        'Jan-94', 'Jan-95', 'Jan-96', 'Jan-97', 'Jan-98', 'Jan-99',\n",
       "        'Jul-00', 'Jul-01', 'Jul-02', 'Jul-03', 'Jul-04', 'Jul-05',\n",
       "        'Jul-06', 'Jul-07', 'Jul-08', 'Jul-09', 'Jul-10', 'Jul-11',\n",
       "        'Jul-58', 'Jul-61', 'Jul-63', 'Jul-64', 'Jul-65', 'Jul-66',\n",
       "        'Jul-67', 'Jul-68', 'Jul-69', 'Jul-70', 'Jul-71', 'Jul-72',\n",
       "        'Jul-73', 'Jul-74', 'Jul-75', 'Jul-76', 'Jul-77', 'Jul-78',\n",
       "        'Jul-79', 'Jul-80', 'Jul-81', 'Jul-82', 'Jul-83', 'Jul-84',\n",
       "        'Jul-85', 'Jul-86', 'Jul-87', 'Jul-88', 'Jul-89', 'Jul-90',\n",
       "        'Jul-91', 'Jul-92', 'Jul-93', 'Jul-94', 'Jul-95', 'Jul-96',\n",
       "        'Jul-97', 'Jul-98', 'Jul-99', 'Jun-00', 'Jun-01', 'Jun-02',\n",
       "        'Jun-03', 'Jun-04', 'Jun-05', 'Jun-06', 'Jun-07', 'Jun-08',\n",
       "        'Jun-09', 'Jun-10', 'Jun-11', 'Jun-59', 'Jun-60', 'Jun-63',\n",
       "        'Jun-64', 'Jun-65', 'Jun-66', 'Jun-67', 'Jun-68', 'Jun-69',\n",
       "        'Jun-70', 'Jun-71', 'Jun-72', 'Jun-73', 'Jun-74', 'Jun-75',\n",
       "        'Jun-76', 'Jun-77', 'Jun-78', 'Jun-79', 'Jun-80', 'Jun-81',\n",
       "        'Jun-82', 'Jun-83', 'Jun-84', 'Jun-85', 'Jun-86', 'Jun-87',\n",
       "        'Jun-88', 'Jun-89', 'Jun-90', 'Jun-91', 'Jun-92', 'Jun-93',\n",
       "        'Jun-94', 'Jun-95', 'Jun-96', 'Jun-97', 'Jun-98', 'Jun-99',\n",
       "        'Mar-00', 'Mar-01', 'Mar-02', 'Mar-03', 'Mar-04', 'Mar-05',\n",
       "        'Mar-06', 'Mar-07', 'Mar-08', 'Mar-09', 'Mar-10', 'Mar-11',\n",
       "        'Mar-60', 'Mar-61', 'Mar-63', 'Mar-64', 'Mar-65', 'Mar-66',\n",
       "        'Mar-67', 'Mar-68', 'Mar-69', 'Mar-70', 'Mar-71', 'Mar-72',\n",
       "        'Mar-73', 'Mar-74', 'Mar-75', 'Mar-76', 'Mar-77', 'Mar-78',\n",
       "        'Mar-79', 'Mar-80', 'Mar-81', 'Mar-82', 'Mar-83', 'Mar-84',\n",
       "        'Mar-85', 'Mar-86', 'Mar-87', 'Mar-88', 'Mar-89', 'Mar-90',\n",
       "        'Mar-91', 'Mar-92', 'Mar-93', 'Mar-94', 'Mar-95', 'Mar-96',\n",
       "        'Mar-97', 'Mar-98', 'Mar-99', 'May-00', 'May-01', 'May-02',\n",
       "        'May-03', 'May-04', 'May-05', 'May-06', 'May-07', 'May-08',\n",
       "        'May-09', 'May-10', 'May-11', 'May-59', 'May-60', 'May-62',\n",
       "        'May-63', 'May-64', 'May-65', 'May-66', 'May-67', 'May-68',\n",
       "        'May-69', 'May-70', 'May-71', 'May-72', 'May-73', 'May-74',\n",
       "        'May-75', 'May-76', 'May-77', 'May-78', 'May-79', 'May-80',\n",
       "        'May-81', 'May-82', 'May-83', 'May-84', 'May-85', 'May-86',\n",
       "        'May-87', 'May-88', 'May-89', 'May-90', 'May-91', 'May-92',\n",
       "        'May-93', 'May-94', 'May-95', 'May-96', 'May-97', 'May-98',\n",
       "        'May-99', 'Nov-00', 'Nov-01', 'Nov-02', 'Nov-03', 'Nov-04',\n",
       "        'Nov-05', 'Nov-06', 'Nov-07', 'Nov-08', 'Nov-09', 'Nov-10',\n",
       "        'Nov-11', 'Nov-54', 'Nov-55', 'Nov-56', 'Nov-58', 'Nov-59',\n",
       "        'Nov-60', 'Nov-61', 'Nov-62', 'Nov-63', 'Nov-64', 'Nov-65',\n",
       "        'Nov-66', 'Nov-67', 'Nov-68', 'Nov-69', 'Nov-70', 'Nov-71',\n",
       "        'Nov-72', 'Nov-73', 'Nov-74', 'Nov-75', 'Nov-76', 'Nov-77',\n",
       "        'Nov-78', 'Nov-79', 'Nov-80', 'Nov-81', 'Nov-82', 'Nov-83',\n",
       "        'Nov-84', 'Nov-85', 'Nov-86', 'Nov-87', 'Nov-88', 'Nov-89',\n",
       "        'Nov-90', 'Nov-91', 'Nov-92', 'Nov-93', 'Nov-94', 'Nov-95',\n",
       "        'Nov-96', 'Nov-97', 'Nov-98', 'Nov-99', 'Oct-00', 'Oct-01',\n",
       "        'Oct-02', 'Oct-03', 'Oct-04', 'Oct-05', 'Oct-06', 'Oct-07',\n",
       "        'Oct-08', 'Oct-09', 'Oct-10', 'Oct-11', 'Oct-54', 'Oct-58',\n",
       "        'Oct-59', 'Oct-60', 'Oct-61', 'Oct-62', 'Oct-63', 'Oct-64',\n",
       "        'Oct-65', 'Oct-66', 'Oct-67', 'Oct-68', 'Oct-69', 'Oct-70',\n",
       "        'Oct-71', 'Oct-72', 'Oct-73', 'Oct-74', 'Oct-75', 'Oct-76',\n",
       "        'Oct-77', 'Oct-78', 'Oct-79', 'Oct-80', 'Oct-81', 'Oct-82',\n",
       "        'Oct-83', 'Oct-84', 'Oct-85', 'Oct-86', 'Oct-87', 'Oct-88',\n",
       "        'Oct-89', 'Oct-90', 'Oct-91', 'Oct-92', 'Oct-93', 'Oct-94',\n",
       "        'Oct-95', 'Oct-96', 'Oct-97', 'Oct-98', 'Oct-99', 'Sep-00',\n",
       "        'Sep-01', 'Sep-02', 'Sep-03', 'Sep-04', 'Sep-05', 'Sep-06',\n",
       "        'Sep-07', 'Sep-08', 'Sep-09', 'Sep-10', 'Sep-11', 'Sep-56',\n",
       "        'Sep-59', 'Sep-60', 'Sep-62', 'Sep-63', 'Sep-64', 'Sep-65',\n",
       "        'Sep-66', 'Sep-67', 'Sep-68', 'Sep-69', 'Sep-70', 'Sep-71',\n",
       "        'Sep-72', 'Sep-73', 'Sep-74', 'Sep-75', 'Sep-76', 'Sep-77',\n",
       "        'Sep-78', 'Sep-79', 'Sep-80', 'Sep-81', 'Sep-82', 'Sep-83',\n",
       "        'Sep-84', 'Sep-85', 'Sep-86', 'Sep-87', 'Sep-88', 'Sep-89',\n",
       "        'Sep-90', 'Sep-91', 'Sep-92', 'Sep-93', 'Sep-94', 'Sep-95',\n",
       "        'Sep-96', 'Sep-97', 'Sep-98', 'Sep-99', 'nan'], dtype='<U6'),\n",
       " 'initial_list_status': array(['f', 'w'], dtype='<U1'),\n",
       " 'last_pymnt_d': array(['Apr-08', 'Apr-09', 'Apr-10', 'Apr-11', 'Apr-12', 'Apr-13',\n",
       "        'Apr-14', 'Apr-15', 'Aug-08', 'Aug-09', 'Aug-10', 'Aug-11',\n",
       "        'Aug-12', 'Aug-13', 'Aug-14', 'Aug-15', 'Dec-07', 'Dec-08',\n",
       "        'Dec-09', 'Dec-10', 'Dec-11', 'Dec-12', 'Dec-13', 'Dec-14',\n",
       "        'Dec-15', 'Feb-08', 'Feb-09', 'Feb-10', 'Feb-11', 'Feb-12',\n",
       "        'Feb-13', 'Feb-14', 'Feb-15', 'Jan-08', 'Jan-09', 'Jan-10',\n",
       "        'Jan-11', 'Jan-12', 'Jan-13', 'Jan-14', 'Jan-15', 'Jan-16',\n",
       "        'Jul-08', 'Jul-09', 'Jul-10', 'Jul-11', 'Jul-12', 'Jul-13',\n",
       "        'Jul-14', 'Jul-15', 'Jun-08', 'Jun-09', 'Jun-10', 'Jun-11',\n",
       "        'Jun-12', 'Jun-13', 'Jun-14', 'Jun-15', 'Mar-08', 'Mar-09',\n",
       "        'Mar-10', 'Mar-11', 'Mar-12', 'Mar-13', 'Mar-14', 'Mar-15',\n",
       "        'May-08', 'May-09', 'May-10', 'May-11', 'May-12', 'May-13',\n",
       "        'May-14', 'May-15', 'Nov-08', 'Nov-09', 'Nov-10', 'Nov-11',\n",
       "        'Nov-12', 'Nov-13', 'Nov-14', 'Nov-15', 'Oct-08', 'Oct-09',\n",
       "        'Oct-10', 'Oct-11', 'Oct-12', 'Oct-13', 'Oct-14', 'Oct-15',\n",
       "        'Sep-08', 'Sep-09', 'Sep-10', 'Sep-11', 'Sep-12', 'Sep-13',\n",
       "        'Sep-14', 'Sep-15', 'nan'], dtype='<U6'),\n",
       " 'next_pymnt_d': array(['Apr-10', 'Apr-11', 'Apr-12', 'Apr-13', 'Apr-14', 'Apr-15',\n",
       "        'Aug-09', 'Aug-10', 'Aug-11', 'Aug-12', 'Aug-14', 'Dec-08',\n",
       "        'Dec-09', 'Dec-10', 'Dec-11', 'Dec-12', 'Feb-10', 'Feb-11',\n",
       "        'Feb-12', 'Feb-13', 'Feb-15', 'Feb-16', 'Jan-09', 'Jan-10',\n",
       "        'Jan-11', 'Jan-12', 'Jan-13', 'Jan-14', 'Jan-15', 'Jan-16',\n",
       "        'Jul-09', 'Jul-10', 'Jul-11', 'Jul-12', 'Jul-13', 'Jul-14',\n",
       "        'Jul-15', 'Jun-09', 'Jun-10', 'Jun-11', 'Jun-12', 'Jun-13',\n",
       "        'Mar-10', 'Mar-11', 'Mar-12', 'Mar-13', 'Mar-14', 'May-09',\n",
       "        'May-10', 'May-11', 'May-12', 'May-13', 'May-14', 'May-15',\n",
       "        'Nov-09', 'Nov-10', 'Nov-11', 'Nov-12', 'Nov-13', 'Nov-14',\n",
       "        'Oct-09', 'Oct-10', 'Oct-11', 'Oct-12', 'Oct-13', 'Sep-09',\n",
       "        'Sep-10', 'Sep-11', 'Sep-12', 'Sep-13', 'Sep-14', 'nan'],\n",
       "       dtype='<U6'),\n",
       " 'last_credit_pull_d': array(['Apr-09', 'Apr-10', 'Apr-11', 'Apr-12', 'Apr-13', 'Apr-14',\n",
       "        'Apr-15', 'Aug-07', 'Aug-08', 'Aug-09', 'Aug-10', 'Aug-11',\n",
       "        'Aug-12', 'Aug-13', 'Aug-14', 'Aug-15', 'Dec-07', 'Dec-08',\n",
       "        'Dec-09', 'Dec-10', 'Dec-11', 'Dec-12', 'Dec-13', 'Dec-14',\n",
       "        'Dec-15', 'Feb-08', 'Feb-09', 'Feb-10', 'Feb-11', 'Feb-12',\n",
       "        'Feb-13', 'Feb-14', 'Feb-15', 'Jan-08', 'Jan-09', 'Jan-10',\n",
       "        'Jan-11', 'Jan-12', 'Jan-13', 'Jan-14', 'Jan-15', 'Jan-16',\n",
       "        'Jul-07', 'Jul-08', 'Jul-09', 'Jul-10', 'Jul-11', 'Jul-12',\n",
       "        'Jul-13', 'Jul-14', 'Jul-15', 'Jun-07', 'Jun-08', 'Jun-09',\n",
       "        'Jun-10', 'Jun-11', 'Jun-12', 'Jun-13', 'Jun-14', 'Jun-15',\n",
       "        'Mar-08', 'Mar-09', 'Mar-10', 'Mar-11', 'Mar-12', 'Mar-13',\n",
       "        'Mar-14', 'Mar-15', 'May-07', 'May-08', 'May-09', 'May-10',\n",
       "        'May-11', 'May-12', 'May-13', 'May-14', 'May-15', 'Nov-09',\n",
       "        'Nov-10', 'Nov-11', 'Nov-12', 'Nov-13', 'Nov-14', 'Nov-15',\n",
       "        'Oct-07', 'Oct-08', 'Oct-09', 'Oct-10', 'Oct-11', 'Oct-12',\n",
       "        'Oct-13', 'Oct-14', 'Oct-15', 'Sep-07', 'Sep-08', 'Sep-09',\n",
       "        'Sep-10', 'Sep-11', 'Sep-12', 'Sep-13', 'Sep-14', 'Sep-15', 'nan'],\n",
       "       dtype='<U6'),\n",
       " 'emp_years': array(['1', '10', '2', '3', '4', '5', '6', '7', '8', '9', 'nan'],\n",
       "       dtype='<U3')}"
      ]
     },
     "execution_count": 75,
     "metadata": {},
     "output_type": "execute_result"
    }
   ],
   "source": [
    "dict_recat"
   ]
  },
  {
   "cell_type": "code",
   "execution_count": 76,
   "metadata": {},
   "outputs": [
    {
     "data": {
      "text/html": [
       "<div>\n",
       "<style scoped>\n",
       "    .dataframe tbody tr th:only-of-type {\n",
       "        vertical-align: middle;\n",
       "    }\n",
       "\n",
       "    .dataframe tbody tr th {\n",
       "        vertical-align: top;\n",
       "    }\n",
       "\n",
       "    .dataframe thead th {\n",
       "        text-align: right;\n",
       "    }\n",
       "</style>\n",
       "<table border=\"1\" class=\"dataframe\">\n",
       "  <thead>\n",
       "    <tr style=\"text-align: right;\">\n",
       "      <th></th>\n",
       "      <th>loan_amnt</th>\n",
       "      <th>funded_amnt</th>\n",
       "      <th>funded_amnt_inv</th>\n",
       "      <th>int_rate</th>\n",
       "      <th>installment</th>\n",
       "      <th>annual_inc</th>\n",
       "      <th>dti</th>\n",
       "      <th>delinq_2yrs</th>\n",
       "      <th>inq_last_6mths</th>\n",
       "      <th>mths_since_last_delinq</th>\n",
       "      <th>...</th>\n",
       "      <th>total_pymnt</th>\n",
       "      <th>total_pymnt_inv</th>\n",
       "      <th>last_pymnt_amnt</th>\n",
       "      <th>collections_12_mths_ex_med</th>\n",
       "      <th>policy_code</th>\n",
       "      <th>acc_now_delinq</th>\n",
       "      <th>tot_coll_amt</th>\n",
       "      <th>tot_cur_bal</th>\n",
       "      <th>total_rev_hi_lim</th>\n",
       "      <th>target</th>\n",
       "    </tr>\n",
       "  </thead>\n",
       "  <tbody>\n",
       "    <tr>\n",
       "      <th>0</th>\n",
       "      <td>5000</td>\n",
       "      <td>5000</td>\n",
       "      <td>4975.0</td>\n",
       "      <td>10.65</td>\n",
       "      <td>162.87</td>\n",
       "      <td>24000.0</td>\n",
       "      <td>27.65</td>\n",
       "      <td>0.0</td>\n",
       "      <td>1.0</td>\n",
       "      <td>NaN</td>\n",
       "      <td>...</td>\n",
       "      <td>5861.071414</td>\n",
       "      <td>5831.78</td>\n",
       "      <td>171.62</td>\n",
       "      <td>0.0</td>\n",
       "      <td>1</td>\n",
       "      <td>0.0</td>\n",
       "      <td>NaN</td>\n",
       "      <td>NaN</td>\n",
       "      <td>NaN</td>\n",
       "      <td>1</td>\n",
       "    </tr>\n",
       "    <tr>\n",
       "      <th>1</th>\n",
       "      <td>2500</td>\n",
       "      <td>2500</td>\n",
       "      <td>2500.0</td>\n",
       "      <td>15.27</td>\n",
       "      <td>59.83</td>\n",
       "      <td>30000.0</td>\n",
       "      <td>1.00</td>\n",
       "      <td>0.0</td>\n",
       "      <td>5.0</td>\n",
       "      <td>NaN</td>\n",
       "      <td>...</td>\n",
       "      <td>1008.710000</td>\n",
       "      <td>1008.71</td>\n",
       "      <td>119.66</td>\n",
       "      <td>0.0</td>\n",
       "      <td>1</td>\n",
       "      <td>0.0</td>\n",
       "      <td>NaN</td>\n",
       "      <td>NaN</td>\n",
       "      <td>NaN</td>\n",
       "      <td>0</td>\n",
       "    </tr>\n",
       "    <tr>\n",
       "      <th>2</th>\n",
       "      <td>2400</td>\n",
       "      <td>2400</td>\n",
       "      <td>2400.0</td>\n",
       "      <td>15.96</td>\n",
       "      <td>84.33</td>\n",
       "      <td>12252.0</td>\n",
       "      <td>8.72</td>\n",
       "      <td>0.0</td>\n",
       "      <td>2.0</td>\n",
       "      <td>NaN</td>\n",
       "      <td>...</td>\n",
       "      <td>3003.653644</td>\n",
       "      <td>3003.65</td>\n",
       "      <td>649.91</td>\n",
       "      <td>0.0</td>\n",
       "      <td>1</td>\n",
       "      <td>0.0</td>\n",
       "      <td>NaN</td>\n",
       "      <td>NaN</td>\n",
       "      <td>NaN</td>\n",
       "      <td>1</td>\n",
       "    </tr>\n",
       "    <tr>\n",
       "      <th>3</th>\n",
       "      <td>10000</td>\n",
       "      <td>10000</td>\n",
       "      <td>10000.0</td>\n",
       "      <td>13.49</td>\n",
       "      <td>339.31</td>\n",
       "      <td>49200.0</td>\n",
       "      <td>20.00</td>\n",
       "      <td>0.0</td>\n",
       "      <td>1.0</td>\n",
       "      <td>35.0</td>\n",
       "      <td>...</td>\n",
       "      <td>12226.302210</td>\n",
       "      <td>12226.30</td>\n",
       "      <td>357.48</td>\n",
       "      <td>0.0</td>\n",
       "      <td>1</td>\n",
       "      <td>0.0</td>\n",
       "      <td>NaN</td>\n",
       "      <td>NaN</td>\n",
       "      <td>NaN</td>\n",
       "      <td>1</td>\n",
       "    </tr>\n",
       "    <tr>\n",
       "      <th>4</th>\n",
       "      <td>5000</td>\n",
       "      <td>5000</td>\n",
       "      <td>5000.0</td>\n",
       "      <td>7.90</td>\n",
       "      <td>156.46</td>\n",
       "      <td>36000.0</td>\n",
       "      <td>11.20</td>\n",
       "      <td>0.0</td>\n",
       "      <td>3.0</td>\n",
       "      <td>NaN</td>\n",
       "      <td>...</td>\n",
       "      <td>5631.377753</td>\n",
       "      <td>5631.38</td>\n",
       "      <td>161.03</td>\n",
       "      <td>0.0</td>\n",
       "      <td>1</td>\n",
       "      <td>0.0</td>\n",
       "      <td>NaN</td>\n",
       "      <td>NaN</td>\n",
       "      <td>NaN</td>\n",
       "      <td>1</td>\n",
       "    </tr>\n",
       "    <tr>\n",
       "      <th>...</th>\n",
       "      <td>...</td>\n",
       "      <td>...</td>\n",
       "      <td>...</td>\n",
       "      <td>...</td>\n",
       "      <td>...</td>\n",
       "      <td>...</td>\n",
       "      <td>...</td>\n",
       "      <td>...</td>\n",
       "      <td>...</td>\n",
       "      <td>...</td>\n",
       "      <td>...</td>\n",
       "      <td>...</td>\n",
       "      <td>...</td>\n",
       "      <td>...</td>\n",
       "      <td>...</td>\n",
       "      <td>...</td>\n",
       "      <td>...</td>\n",
       "      <td>...</td>\n",
       "      <td>...</td>\n",
       "      <td>...</td>\n",
       "      <td>...</td>\n",
       "    </tr>\n",
       "    <tr>\n",
       "      <th>235702</th>\n",
       "      <td>8525</td>\n",
       "      <td>8525</td>\n",
       "      <td>8525.0</td>\n",
       "      <td>18.25</td>\n",
       "      <td>217.65</td>\n",
       "      <td>37536.0</td>\n",
       "      <td>12.28</td>\n",
       "      <td>4.0</td>\n",
       "      <td>0.0</td>\n",
       "      <td>3.0</td>\n",
       "      <td>...</td>\n",
       "      <td>2029.930000</td>\n",
       "      <td>2029.93</td>\n",
       "      <td>217.65</td>\n",
       "      <td>0.0</td>\n",
       "      <td>1</td>\n",
       "      <td>0.0</td>\n",
       "      <td>0.0</td>\n",
       "      <td>116995.0</td>\n",
       "      <td>49800.0</td>\n",
       "      <td>0</td>\n",
       "    </tr>\n",
       "    <tr>\n",
       "      <th>235703</th>\n",
       "      <td>18000</td>\n",
       "      <td>18000</td>\n",
       "      <td>17975.0</td>\n",
       "      <td>7.90</td>\n",
       "      <td>563.23</td>\n",
       "      <td>90000.0</td>\n",
       "      <td>10.33</td>\n",
       "      <td>1.0</td>\n",
       "      <td>0.0</td>\n",
       "      <td>14.0</td>\n",
       "      <td>...</td>\n",
       "      <td>5631.670000</td>\n",
       "      <td>5623.85</td>\n",
       "      <td>563.23</td>\n",
       "      <td>0.0</td>\n",
       "      <td>1</td>\n",
       "      <td>0.0</td>\n",
       "      <td>0.0</td>\n",
       "      <td>42592.0</td>\n",
       "      <td>50300.0</td>\n",
       "      <td>0</td>\n",
       "    </tr>\n",
       "    <tr>\n",
       "      <th>235704</th>\n",
       "      <td>10000</td>\n",
       "      <td>10000</td>\n",
       "      <td>10000.0</td>\n",
       "      <td>18.25</td>\n",
       "      <td>362.78</td>\n",
       "      <td>42000.0</td>\n",
       "      <td>11.57</td>\n",
       "      <td>0.0</td>\n",
       "      <td>0.0</td>\n",
       "      <td>29.0</td>\n",
       "      <td>...</td>\n",
       "      <td>12394.165200</td>\n",
       "      <td>12394.17</td>\n",
       "      <td>5501.60</td>\n",
       "      <td>0.0</td>\n",
       "      <td>1</td>\n",
       "      <td>0.0</td>\n",
       "      <td>0.0</td>\n",
       "      <td>10170.0</td>\n",
       "      <td>11100.0</td>\n",
       "      <td>1</td>\n",
       "    </tr>\n",
       "    <tr>\n",
       "      <th>235705</th>\n",
       "      <td>22000</td>\n",
       "      <td>22000</td>\n",
       "      <td>22000.0</td>\n",
       "      <td>19.97</td>\n",
       "      <td>582.50</td>\n",
       "      <td>78000.0</td>\n",
       "      <td>18.45</td>\n",
       "      <td>0.0</td>\n",
       "      <td>5.0</td>\n",
       "      <td>NaN</td>\n",
       "      <td>...</td>\n",
       "      <td>4677.920000</td>\n",
       "      <td>4677.92</td>\n",
       "      <td>17.50</td>\n",
       "      <td>0.0</td>\n",
       "      <td>1</td>\n",
       "      <td>0.0</td>\n",
       "      <td>0.0</td>\n",
       "      <td>221830.0</td>\n",
       "      <td>39400.0</td>\n",
       "      <td>0</td>\n",
       "    </tr>\n",
       "    <tr>\n",
       "      <th>235706</th>\n",
       "      <td>2000</td>\n",
       "      <td>2000</td>\n",
       "      <td>2000.0</td>\n",
       "      <td>7.90</td>\n",
       "      <td>62.59</td>\n",
       "      <td>83000.0</td>\n",
       "      <td>5.39</td>\n",
       "      <td>3.0</td>\n",
       "      <td>1.0</td>\n",
       "      <td>13.0</td>\n",
       "      <td>...</td>\n",
       "      <td>2126.579838</td>\n",
       "      <td>2126.58</td>\n",
       "      <td>1500.68</td>\n",
       "      <td>0.0</td>\n",
       "      <td>1</td>\n",
       "      <td>0.0</td>\n",
       "      <td>0.0</td>\n",
       "      <td>591610.0</td>\n",
       "      <td>53100.0</td>\n",
       "      <td>1</td>\n",
       "    </tr>\n",
       "  </tbody>\n",
       "</table>\n",
       "<p>235707 rows × 27 columns</p>\n",
       "</div>"
      ],
      "text/plain": [
       "        loan_amnt  funded_amnt  funded_amnt_inv  int_rate  installment  \\\n",
       "0            5000         5000           4975.0     10.65       162.87   \n",
       "1            2500         2500           2500.0     15.27        59.83   \n",
       "2            2400         2400           2400.0     15.96        84.33   \n",
       "3           10000        10000          10000.0     13.49       339.31   \n",
       "4            5000         5000           5000.0      7.90       156.46   \n",
       "...           ...          ...              ...       ...          ...   \n",
       "235702       8525         8525           8525.0     18.25       217.65   \n",
       "235703      18000        18000          17975.0      7.90       563.23   \n",
       "235704      10000        10000          10000.0     18.25       362.78   \n",
       "235705      22000        22000          22000.0     19.97       582.50   \n",
       "235706       2000         2000           2000.0      7.90        62.59   \n",
       "\n",
       "        annual_inc    dti  delinq_2yrs  inq_last_6mths  \\\n",
       "0          24000.0  27.65          0.0             1.0   \n",
       "1          30000.0   1.00          0.0             5.0   \n",
       "2          12252.0   8.72          0.0             2.0   \n",
       "3          49200.0  20.00          0.0             1.0   \n",
       "4          36000.0  11.20          0.0             3.0   \n",
       "...            ...    ...          ...             ...   \n",
       "235702     37536.0  12.28          4.0             0.0   \n",
       "235703     90000.0  10.33          1.0             0.0   \n",
       "235704     42000.0  11.57          0.0             0.0   \n",
       "235705     78000.0  18.45          0.0             5.0   \n",
       "235706     83000.0   5.39          3.0             1.0   \n",
       "\n",
       "        mths_since_last_delinq  ...   total_pymnt  total_pymnt_inv  \\\n",
       "0                          NaN  ...   5861.071414          5831.78   \n",
       "1                          NaN  ...   1008.710000          1008.71   \n",
       "2                          NaN  ...   3003.653644          3003.65   \n",
       "3                         35.0  ...  12226.302210         12226.30   \n",
       "4                          NaN  ...   5631.377753          5631.38   \n",
       "...                        ...  ...           ...              ...   \n",
       "235702                     3.0  ...   2029.930000          2029.93   \n",
       "235703                    14.0  ...   5631.670000          5623.85   \n",
       "235704                    29.0  ...  12394.165200         12394.17   \n",
       "235705                     NaN  ...   4677.920000          4677.92   \n",
       "235706                    13.0  ...   2126.579838          2126.58   \n",
       "\n",
       "        last_pymnt_amnt  collections_12_mths_ex_med  policy_code  \\\n",
       "0                171.62                         0.0            1   \n",
       "1                119.66                         0.0            1   \n",
       "2                649.91                         0.0            1   \n",
       "3                357.48                         0.0            1   \n",
       "4                161.03                         0.0            1   \n",
       "...                 ...                         ...          ...   \n",
       "235702           217.65                         0.0            1   \n",
       "235703           563.23                         0.0            1   \n",
       "235704          5501.60                         0.0            1   \n",
       "235705            17.50                         0.0            1   \n",
       "235706          1500.68                         0.0            1   \n",
       "\n",
       "        acc_now_delinq  tot_coll_amt  tot_cur_bal  total_rev_hi_lim  target  \n",
       "0                  0.0           NaN          NaN               NaN       1  \n",
       "1                  0.0           NaN          NaN               NaN       0  \n",
       "2                  0.0           NaN          NaN               NaN       1  \n",
       "3                  0.0           NaN          NaN               NaN       1  \n",
       "4                  0.0           NaN          NaN               NaN       1  \n",
       "...                ...           ...          ...               ...     ...  \n",
       "235702             0.0           0.0     116995.0           49800.0       0  \n",
       "235703             0.0           0.0      42592.0           50300.0       0  \n",
       "235704             0.0           0.0      10170.0           11100.0       1  \n",
       "235705             0.0           0.0     221830.0           39400.0       0  \n",
       "235706             0.0           0.0     591610.0           53100.0       1  \n",
       "\n",
       "[235707 rows x 27 columns]"
      ]
     },
     "execution_count": 76,
     "metadata": {},
     "output_type": "execute_result"
    }
   ],
   "source": [
    "df_updated[numerical]"
   ]
  },
  {
   "cell_type": "code",
   "execution_count": 77,
   "metadata": {},
   "outputs": [],
   "source": [
    "df_final = df_updated[numerical + objectt]"
   ]
  },
  {
   "cell_type": "code",
   "execution_count": 78,
   "metadata": {},
   "outputs": [
    {
     "data": {
      "text/html": [
       "<div>\n",
       "<style scoped>\n",
       "    .dataframe tbody tr th:only-of-type {\n",
       "        vertical-align: middle;\n",
       "    }\n",
       "\n",
       "    .dataframe tbody tr th {\n",
       "        vertical-align: top;\n",
       "    }\n",
       "\n",
       "    .dataframe thead th {\n",
       "        text-align: right;\n",
       "    }\n",
       "</style>\n",
       "<table border=\"1\" class=\"dataframe\">\n",
       "  <thead>\n",
       "    <tr style=\"text-align: right;\">\n",
       "      <th></th>\n",
       "      <th>loan_amnt</th>\n",
       "      <th>funded_amnt</th>\n",
       "      <th>funded_amnt_inv</th>\n",
       "      <th>int_rate</th>\n",
       "      <th>installment</th>\n",
       "      <th>annual_inc</th>\n",
       "      <th>dti</th>\n",
       "      <th>delinq_2yrs</th>\n",
       "      <th>inq_last_6mths</th>\n",
       "      <th>mths_since_last_delinq</th>\n",
       "      <th>...</th>\n",
       "      <th>issue_d</th>\n",
       "      <th>pymnt_plan</th>\n",
       "      <th>purpose</th>\n",
       "      <th>addr_state</th>\n",
       "      <th>earliest_cr_line</th>\n",
       "      <th>initial_list_status</th>\n",
       "      <th>last_pymnt_d</th>\n",
       "      <th>next_pymnt_d</th>\n",
       "      <th>last_credit_pull_d</th>\n",
       "      <th>emp_years</th>\n",
       "    </tr>\n",
       "  </thead>\n",
       "  <tbody>\n",
       "    <tr>\n",
       "      <th>0</th>\n",
       "      <td>5000</td>\n",
       "      <td>5000</td>\n",
       "      <td>4975.0</td>\n",
       "      <td>10.65</td>\n",
       "      <td>162.87</td>\n",
       "      <td>24000.0</td>\n",
       "      <td>27.65</td>\n",
       "      <td>0.0</td>\n",
       "      <td>1.0</td>\n",
       "      <td>NaN</td>\n",
       "      <td>...</td>\n",
       "      <td>19</td>\n",
       "      <td>0</td>\n",
       "      <td>1</td>\n",
       "      <td>3</td>\n",
       "      <td>249</td>\n",
       "      <td>0</td>\n",
       "      <td>40</td>\n",
       "      <td>71</td>\n",
       "      <td>41</td>\n",
       "      <td>1</td>\n",
       "    </tr>\n",
       "    <tr>\n",
       "      <th>1</th>\n",
       "      <td>2500</td>\n",
       "      <td>2500</td>\n",
       "      <td>2500.0</td>\n",
       "      <td>15.27</td>\n",
       "      <td>59.83</td>\n",
       "      <td>30000.0</td>\n",
       "      <td>1.00</td>\n",
       "      <td>0.0</td>\n",
       "      <td>5.0</td>\n",
       "      <td>NaN</td>\n",
       "      <td>...</td>\n",
       "      <td>19</td>\n",
       "      <td>0</td>\n",
       "      <td>0</td>\n",
       "      <td>10</td>\n",
       "      <td>50</td>\n",
       "      <td>0</td>\n",
       "      <td>5</td>\n",
       "      <td>71</td>\n",
       "      <td>99</td>\n",
       "      <td>0</td>\n",
       "    </tr>\n",
       "    <tr>\n",
       "      <th>2</th>\n",
       "      <td>2400</td>\n",
       "      <td>2400</td>\n",
       "      <td>2400.0</td>\n",
       "      <td>15.96</td>\n",
       "      <td>84.33</td>\n",
       "      <td>12252.0</td>\n",
       "      <td>8.72</td>\n",
       "      <td>0.0</td>\n",
       "      <td>2.0</td>\n",
       "      <td>NaN</td>\n",
       "      <td>...</td>\n",
       "      <td>19</td>\n",
       "      <td>0</td>\n",
       "      <td>11</td>\n",
       "      <td>14</td>\n",
       "      <td>470</td>\n",
       "      <td>0</td>\n",
       "      <td>56</td>\n",
       "      <td>71</td>\n",
       "      <td>41</td>\n",
       "      <td>1</td>\n",
       "    </tr>\n",
       "    <tr>\n",
       "      <th>3</th>\n",
       "      <td>10000</td>\n",
       "      <td>10000</td>\n",
       "      <td>10000.0</td>\n",
       "      <td>13.49</td>\n",
       "      <td>339.31</td>\n",
       "      <td>49200.0</td>\n",
       "      <td>20.00</td>\n",
       "      <td>0.0</td>\n",
       "      <td>1.0</td>\n",
       "      <td>35.0</td>\n",
       "      <td>...</td>\n",
       "      <td>19</td>\n",
       "      <td>0</td>\n",
       "      <td>9</td>\n",
       "      <td>4</td>\n",
       "      <td>202</td>\n",
       "      <td>0</td>\n",
       "      <td>40</td>\n",
       "      <td>71</td>\n",
       "      <td>40</td>\n",
       "      <td>1</td>\n",
       "    </tr>\n",
       "    <tr>\n",
       "      <th>4</th>\n",
       "      <td>5000</td>\n",
       "      <td>5000</td>\n",
       "      <td>5000.0</td>\n",
       "      <td>7.90</td>\n",
       "      <td>156.46</td>\n",
       "      <td>36000.0</td>\n",
       "      <td>11.20</td>\n",
       "      <td>0.0</td>\n",
       "      <td>3.0</td>\n",
       "      <td>NaN</td>\n",
       "      <td>...</td>\n",
       "      <td>19</td>\n",
       "      <td>0</td>\n",
       "      <td>13</td>\n",
       "      <td>3</td>\n",
       "      <td>473</td>\n",
       "      <td>0</td>\n",
       "      <td>40</td>\n",
       "      <td>71</td>\n",
       "      <td>101</td>\n",
       "      <td>3</td>\n",
       "    </tr>\n",
       "    <tr>\n",
       "      <th>...</th>\n",
       "      <td>...</td>\n",
       "      <td>...</td>\n",
       "      <td>...</td>\n",
       "      <td>...</td>\n",
       "      <td>...</td>\n",
       "      <td>...</td>\n",
       "      <td>...</td>\n",
       "      <td>...</td>\n",
       "      <td>...</td>\n",
       "      <td>...</td>\n",
       "      <td>...</td>\n",
       "      <td>...</td>\n",
       "      <td>...</td>\n",
       "      <td>...</td>\n",
       "      <td>...</td>\n",
       "      <td>...</td>\n",
       "      <td>...</td>\n",
       "      <td>...</td>\n",
       "      <td>...</td>\n",
       "      <td>...</td>\n",
       "      <td>...</td>\n",
       "    </tr>\n",
       "    <tr>\n",
       "      <th>235702</th>\n",
       "      <td>8525</td>\n",
       "      <td>8525</td>\n",
       "      <td>8525.0</td>\n",
       "      <td>18.25</td>\n",
       "      <td>217.65</td>\n",
       "      <td>37536.0</td>\n",
       "      <td>12.28</td>\n",
       "      <td>4.0</td>\n",
       "      <td>0.0</td>\n",
       "      <td>3.0</td>\n",
       "      <td>...</td>\n",
       "      <td>36</td>\n",
       "      <td>0</td>\n",
       "      <td>7</td>\n",
       "      <td>19</td>\n",
       "      <td>520</td>\n",
       "      <td>0</td>\n",
       "      <td>72</td>\n",
       "      <td>71</td>\n",
       "      <td>91</td>\n",
       "      <td>5</td>\n",
       "    </tr>\n",
       "    <tr>\n",
       "      <th>235703</th>\n",
       "      <td>18000</td>\n",
       "      <td>18000</td>\n",
       "      <td>17975.0</td>\n",
       "      <td>7.90</td>\n",
       "      <td>563.23</td>\n",
       "      <td>90000.0</td>\n",
       "      <td>10.33</td>\n",
       "      <td>1.0</td>\n",
       "      <td>0.0</td>\n",
       "      <td>14.0</td>\n",
       "      <td>...</td>\n",
       "      <td>36</td>\n",
       "      <td>0</td>\n",
       "      <td>2</td>\n",
       "      <td>20</td>\n",
       "      <td>313</td>\n",
       "      <td>0</td>\n",
       "      <td>80</td>\n",
       "      <td>71</td>\n",
       "      <td>91</td>\n",
       "      <td>3</td>\n",
       "    </tr>\n",
       "    <tr>\n",
       "      <th>235704</th>\n",
       "      <td>10000</td>\n",
       "      <td>10000</td>\n",
       "      <td>10000.0</td>\n",
       "      <td>18.25</td>\n",
       "      <td>362.78</td>\n",
       "      <td>42000.0</td>\n",
       "      <td>11.57</td>\n",
       "      <td>0.0</td>\n",
       "      <td>0.0</td>\n",
       "      <td>29.0</td>\n",
       "      <td>...</td>\n",
       "      <td>36</td>\n",
       "      <td>0</td>\n",
       "      <td>12</td>\n",
       "      <td>44</td>\n",
       "      <td>317</td>\n",
       "      <td>0</td>\n",
       "      <td>97</td>\n",
       "      <td>71</td>\n",
       "      <td>41</td>\n",
       "      <td>1</td>\n",
       "    </tr>\n",
       "    <tr>\n",
       "      <th>235705</th>\n",
       "      <td>22000</td>\n",
       "      <td>22000</td>\n",
       "      <td>22000.0</td>\n",
       "      <td>19.97</td>\n",
       "      <td>582.50</td>\n",
       "      <td>78000.0</td>\n",
       "      <td>18.45</td>\n",
       "      <td>0.0</td>\n",
       "      <td>5.0</td>\n",
       "      <td>NaN</td>\n",
       "      <td>...</td>\n",
       "      <td>36</td>\n",
       "      <td>0</td>\n",
       "      <td>2</td>\n",
       "      <td>41</td>\n",
       "      <td>363</td>\n",
       "      <td>0</td>\n",
       "      <td>23</td>\n",
       "      <td>71</td>\n",
       "      <td>41</td>\n",
       "      <td>1</td>\n",
       "    </tr>\n",
       "    <tr>\n",
       "      <th>235706</th>\n",
       "      <td>2000</td>\n",
       "      <td>2000</td>\n",
       "      <td>2000.0</td>\n",
       "      <td>7.90</td>\n",
       "      <td>62.59</td>\n",
       "      <td>83000.0</td>\n",
       "      <td>5.39</td>\n",
       "      <td>3.0</td>\n",
       "      <td>1.0</td>\n",
       "      <td>13.0</td>\n",
       "      <td>...</td>\n",
       "      <td>36</td>\n",
       "      <td>0</td>\n",
       "      <td>1</td>\n",
       "      <td>4</td>\n",
       "      <td>160</td>\n",
       "      <td>1</td>\n",
       "      <td>23</td>\n",
       "      <td>71</td>\n",
       "      <td>6</td>\n",
       "      <td>3</td>\n",
       "    </tr>\n",
       "  </tbody>\n",
       "</table>\n",
       "<p>235707 rows × 43 columns</p>\n",
       "</div>"
      ],
      "text/plain": [
       "        loan_amnt  funded_amnt  funded_amnt_inv  int_rate  installment  \\\n",
       "0            5000         5000           4975.0     10.65       162.87   \n",
       "1            2500         2500           2500.0     15.27        59.83   \n",
       "2            2400         2400           2400.0     15.96        84.33   \n",
       "3           10000        10000          10000.0     13.49       339.31   \n",
       "4            5000         5000           5000.0      7.90       156.46   \n",
       "...           ...          ...              ...       ...          ...   \n",
       "235702       8525         8525           8525.0     18.25       217.65   \n",
       "235703      18000        18000          17975.0      7.90       563.23   \n",
       "235704      10000        10000          10000.0     18.25       362.78   \n",
       "235705      22000        22000          22000.0     19.97       582.50   \n",
       "235706       2000         2000           2000.0      7.90        62.59   \n",
       "\n",
       "        annual_inc    dti  delinq_2yrs  inq_last_6mths  \\\n",
       "0          24000.0  27.65          0.0             1.0   \n",
       "1          30000.0   1.00          0.0             5.0   \n",
       "2          12252.0   8.72          0.0             2.0   \n",
       "3          49200.0  20.00          0.0             1.0   \n",
       "4          36000.0  11.20          0.0             3.0   \n",
       "...            ...    ...          ...             ...   \n",
       "235702     37536.0  12.28          4.0             0.0   \n",
       "235703     90000.0  10.33          1.0             0.0   \n",
       "235704     42000.0  11.57          0.0             0.0   \n",
       "235705     78000.0  18.45          0.0             5.0   \n",
       "235706     83000.0   5.39          3.0             1.0   \n",
       "\n",
       "        mths_since_last_delinq  ...  issue_d  pymnt_plan  purpose  addr_state  \\\n",
       "0                          NaN  ...       19           0        1           3   \n",
       "1                          NaN  ...       19           0        0          10   \n",
       "2                          NaN  ...       19           0       11          14   \n",
       "3                         35.0  ...       19           0        9           4   \n",
       "4                          NaN  ...       19           0       13           3   \n",
       "...                        ...  ...      ...         ...      ...         ...   \n",
       "235702                     3.0  ...       36           0        7          19   \n",
       "235703                    14.0  ...       36           0        2          20   \n",
       "235704                    29.0  ...       36           0       12          44   \n",
       "235705                     NaN  ...       36           0        2          41   \n",
       "235706                    13.0  ...       36           0        1           4   \n",
       "\n",
       "        earliest_cr_line  initial_list_status  last_pymnt_d  next_pymnt_d  \\\n",
       "0                    249                    0            40            71   \n",
       "1                     50                    0             5            71   \n",
       "2                    470                    0            56            71   \n",
       "3                    202                    0            40            71   \n",
       "4                    473                    0            40            71   \n",
       "...                  ...                  ...           ...           ...   \n",
       "235702               520                    0            72            71   \n",
       "235703               313                    0            80            71   \n",
       "235704               317                    0            97            71   \n",
       "235705               363                    0            23            71   \n",
       "235706               160                    1            23            71   \n",
       "\n",
       "        last_credit_pull_d  emp_years  \n",
       "0                       41          1  \n",
       "1                       99          0  \n",
       "2                       41          1  \n",
       "3                       40          1  \n",
       "4                      101          3  \n",
       "...                    ...        ...  \n",
       "235702                  91          5  \n",
       "235703                  91          3  \n",
       "235704                  41          1  \n",
       "235705                  41          1  \n",
       "235706                   6          3  \n",
       "\n",
       "[235707 rows x 43 columns]"
      ]
     },
     "execution_count": 78,
     "metadata": {},
     "output_type": "execute_result"
    }
   ],
   "source": [
    "df_final"
   ]
  },
  {
   "cell_type": "code",
   "execution_count": 79,
   "metadata": {},
   "outputs": [
    {
     "data": {
      "text/html": [
       "<div>\n",
       "<style scoped>\n",
       "    .dataframe tbody tr th:only-of-type {\n",
       "        vertical-align: middle;\n",
       "    }\n",
       "\n",
       "    .dataframe tbody tr th {\n",
       "        vertical-align: top;\n",
       "    }\n",
       "\n",
       "    .dataframe thead th {\n",
       "        text-align: right;\n",
       "    }\n",
       "</style>\n",
       "<table border=\"1\" class=\"dataframe\">\n",
       "  <thead>\n",
       "    <tr style=\"text-align: right;\">\n",
       "      <th></th>\n",
       "      <th>loan_amnt</th>\n",
       "      <th>funded_amnt</th>\n",
       "      <th>funded_amnt_inv</th>\n",
       "      <th>int_rate</th>\n",
       "      <th>installment</th>\n",
       "      <th>annual_inc</th>\n",
       "      <th>dti</th>\n",
       "      <th>delinq_2yrs</th>\n",
       "      <th>inq_last_6mths</th>\n",
       "      <th>mths_since_last_delinq</th>\n",
       "      <th>...</th>\n",
       "      <th>issue_d</th>\n",
       "      <th>pymnt_plan</th>\n",
       "      <th>purpose</th>\n",
       "      <th>addr_state</th>\n",
       "      <th>earliest_cr_line</th>\n",
       "      <th>initial_list_status</th>\n",
       "      <th>last_pymnt_d</th>\n",
       "      <th>next_pymnt_d</th>\n",
       "      <th>last_credit_pull_d</th>\n",
       "      <th>emp_years</th>\n",
       "    </tr>\n",
       "  </thead>\n",
       "  <tbody>\n",
       "    <tr>\n",
       "      <th>count</th>\n",
       "      <td>235707.000000</td>\n",
       "      <td>235707.000000</td>\n",
       "      <td>235707.000000</td>\n",
       "      <td>235707.000000</td>\n",
       "      <td>235707.000000</td>\n",
       "      <td>2.357070e+05</td>\n",
       "      <td>235707.000000</td>\n",
       "      <td>235704.000000</td>\n",
       "      <td>235704.000000</td>\n",
       "      <td>103619.000000</td>\n",
       "      <td>...</td>\n",
       "      <td>235707.000000</td>\n",
       "      <td>235707.000000</td>\n",
       "      <td>235707.000000</td>\n",
       "      <td>235707.000000</td>\n",
       "      <td>235707.000000</td>\n",
       "      <td>235707.000000</td>\n",
       "      <td>235707.000000</td>\n",
       "      <td>235707.000000</td>\n",
       "      <td>235707.000000</td>\n",
       "      <td>235707.000000</td>\n",
       "    </tr>\n",
       "    <tr>\n",
       "      <th>mean</th>\n",
       "      <td>13513.329791</td>\n",
       "      <td>13468.760898</td>\n",
       "      <td>13358.052670</td>\n",
       "      <td>13.843516</td>\n",
       "      <td>417.716184</td>\n",
       "      <td>7.192445e+04</td>\n",
       "      <td>16.448051</td>\n",
       "      <td>0.247289</td>\n",
       "      <td>0.881118</td>\n",
       "      <td>35.014708</td>\n",
       "      <td>...</td>\n",
       "      <td>47.918895</td>\n",
       "      <td>0.000025</td>\n",
       "      <td>2.847187</td>\n",
       "      <td>22.133831</td>\n",
       "      <td>322.860636</td>\n",
       "      <td>0.257307</td>\n",
       "      <td>52.813094</td>\n",
       "      <td>69.275775</td>\n",
       "      <td>48.363668</td>\n",
       "      <td>3.204173</td>\n",
       "    </tr>\n",
       "    <tr>\n",
       "      <th>std</th>\n",
       "      <td>8064.319558</td>\n",
       "      <td>8039.545746</td>\n",
       "      <td>8065.318448</td>\n",
       "      <td>4.390079</td>\n",
       "      <td>243.646712</td>\n",
       "      <td>5.501004e+04</td>\n",
       "      <td>7.694201</td>\n",
       "      <td>0.733228</td>\n",
       "      <td>1.112303</td>\n",
       "      <td>21.803956</td>\n",
       "      <td>...</td>\n",
       "      <td>26.415452</td>\n",
       "      <td>0.005045</td>\n",
       "      <td>2.621006</td>\n",
       "      <td>14.885004</td>\n",
       "      <td>186.452750</td>\n",
       "      <td>0.437151</td>\n",
       "      <td>28.602329</td>\n",
       "      <td>9.040056</td>\n",
       "      <td>24.040064</td>\n",
       "      <td>2.968941</td>\n",
       "    </tr>\n",
       "    <tr>\n",
       "      <th>min</th>\n",
       "      <td>500.000000</td>\n",
       "      <td>500.000000</td>\n",
       "      <td>0.000000</td>\n",
       "      <td>5.420000</td>\n",
       "      <td>15.690000</td>\n",
       "      <td>2.000000e+03</td>\n",
       "      <td>0.000000</td>\n",
       "      <td>0.000000</td>\n",
       "      <td>0.000000</td>\n",
       "      <td>0.000000</td>\n",
       "      <td>...</td>\n",
       "      <td>0.000000</td>\n",
       "      <td>0.000000</td>\n",
       "      <td>0.000000</td>\n",
       "      <td>0.000000</td>\n",
       "      <td>0.000000</td>\n",
       "      <td>0.000000</td>\n",
       "      <td>0.000000</td>\n",
       "      <td>0.000000</td>\n",
       "      <td>0.000000</td>\n",
       "      <td>0.000000</td>\n",
       "    </tr>\n",
       "    <tr>\n",
       "      <th>25%</th>\n",
       "      <td>7300.000000</td>\n",
       "      <td>7200.000000</td>\n",
       "      <td>7200.000000</td>\n",
       "      <td>10.990000</td>\n",
       "      <td>240.350000</td>\n",
       "      <td>4.500000e+04</td>\n",
       "      <td>10.730000</td>\n",
       "      <td>0.000000</td>\n",
       "      <td>0.000000</td>\n",
       "      <td>17.000000</td>\n",
       "      <td>...</td>\n",
       "      <td>25.000000</td>\n",
       "      <td>0.000000</td>\n",
       "      <td>2.000000</td>\n",
       "      <td>6.000000</td>\n",
       "      <td>156.000000</td>\n",
       "      <td>0.000000</td>\n",
       "      <td>24.000000</td>\n",
       "      <td>71.000000</td>\n",
       "      <td>41.000000</td>\n",
       "      <td>1.000000</td>\n",
       "    </tr>\n",
       "    <tr>\n",
       "      <th>50%</th>\n",
       "      <td>12000.000000</td>\n",
       "      <td>12000.000000</td>\n",
       "      <td>11950.000000</td>\n",
       "      <td>13.660000</td>\n",
       "      <td>365.300000</td>\n",
       "      <td>6.154800e+04</td>\n",
       "      <td>16.150000</td>\n",
       "      <td>0.000000</td>\n",
       "      <td>1.000000</td>\n",
       "      <td>32.000000</td>\n",
       "      <td>...</td>\n",
       "      <td>50.000000</td>\n",
       "      <td>0.000000</td>\n",
       "      <td>2.000000</td>\n",
       "      <td>22.000000</td>\n",
       "      <td>317.000000</td>\n",
       "      <td>0.000000</td>\n",
       "      <td>55.000000</td>\n",
       "      <td>71.000000</td>\n",
       "      <td>41.000000</td>\n",
       "      <td>2.000000</td>\n",
       "    </tr>\n",
       "    <tr>\n",
       "      <th>75%</th>\n",
       "      <td>18000.000000</td>\n",
       "      <td>18000.000000</td>\n",
       "      <td>18000.000000</td>\n",
       "      <td>16.590000</td>\n",
       "      <td>546.345000</td>\n",
       "      <td>8.600000e+04</td>\n",
       "      <td>21.890000</td>\n",
       "      <td>0.000000</td>\n",
       "      <td>1.000000</td>\n",
       "      <td>51.000000</td>\n",
       "      <td>...</td>\n",
       "      <td>72.000000</td>\n",
       "      <td>0.000000</td>\n",
       "      <td>2.000000</td>\n",
       "      <td>34.000000</td>\n",
       "      <td>475.000000</td>\n",
       "      <td>1.000000</td>\n",
       "      <td>80.000000</td>\n",
       "      <td>71.000000</td>\n",
       "      <td>59.000000</td>\n",
       "      <td>5.000000</td>\n",
       "    </tr>\n",
       "    <tr>\n",
       "      <th>max</th>\n",
       "      <td>35000.000000</td>\n",
       "      <td>35000.000000</td>\n",
       "      <td>35000.000000</td>\n",
       "      <td>26.060000</td>\n",
       "      <td>1408.130000</td>\n",
       "      <td>7.141778e+06</td>\n",
       "      <td>39.990000</td>\n",
       "      <td>29.000000</td>\n",
       "      <td>33.000000</td>\n",
       "      <td>152.000000</td>\n",
       "      <td>...</td>\n",
       "      <td>90.000000</td>\n",
       "      <td>1.000000</td>\n",
       "      <td>13.000000</td>\n",
       "      <td>49.000000</td>\n",
       "      <td>634.000000</td>\n",
       "      <td>1.000000</td>\n",
       "      <td>98.000000</td>\n",
       "      <td>71.000000</td>\n",
       "      <td>102.000000</td>\n",
       "      <td>10.000000</td>\n",
       "    </tr>\n",
       "  </tbody>\n",
       "</table>\n",
       "<p>8 rows × 43 columns</p>\n",
       "</div>"
      ],
      "text/plain": [
       "           loan_amnt    funded_amnt  funded_amnt_inv       int_rate  \\\n",
       "count  235707.000000  235707.000000    235707.000000  235707.000000   \n",
       "mean    13513.329791   13468.760898     13358.052670      13.843516   \n",
       "std      8064.319558    8039.545746      8065.318448       4.390079   \n",
       "min       500.000000     500.000000         0.000000       5.420000   \n",
       "25%      7300.000000    7200.000000      7200.000000      10.990000   \n",
       "50%     12000.000000   12000.000000     11950.000000      13.660000   \n",
       "75%     18000.000000   18000.000000     18000.000000      16.590000   \n",
       "max     35000.000000   35000.000000     35000.000000      26.060000   \n",
       "\n",
       "         installment    annual_inc            dti    delinq_2yrs  \\\n",
       "count  235707.000000  2.357070e+05  235707.000000  235704.000000   \n",
       "mean      417.716184  7.192445e+04      16.448051       0.247289   \n",
       "std       243.646712  5.501004e+04       7.694201       0.733228   \n",
       "min        15.690000  2.000000e+03       0.000000       0.000000   \n",
       "25%       240.350000  4.500000e+04      10.730000       0.000000   \n",
       "50%       365.300000  6.154800e+04      16.150000       0.000000   \n",
       "75%       546.345000  8.600000e+04      21.890000       0.000000   \n",
       "max      1408.130000  7.141778e+06      39.990000      29.000000   \n",
       "\n",
       "       inq_last_6mths  mths_since_last_delinq  ...        issue_d  \\\n",
       "count   235704.000000           103619.000000  ...  235707.000000   \n",
       "mean         0.881118               35.014708  ...      47.918895   \n",
       "std          1.112303               21.803956  ...      26.415452   \n",
       "min          0.000000                0.000000  ...       0.000000   \n",
       "25%          0.000000               17.000000  ...      25.000000   \n",
       "50%          1.000000               32.000000  ...      50.000000   \n",
       "75%          1.000000               51.000000  ...      72.000000   \n",
       "max         33.000000              152.000000  ...      90.000000   \n",
       "\n",
       "          pymnt_plan        purpose     addr_state  earliest_cr_line  \\\n",
       "count  235707.000000  235707.000000  235707.000000     235707.000000   \n",
       "mean        0.000025       2.847187      22.133831        322.860636   \n",
       "std         0.005045       2.621006      14.885004        186.452750   \n",
       "min         0.000000       0.000000       0.000000          0.000000   \n",
       "25%         0.000000       2.000000       6.000000        156.000000   \n",
       "50%         0.000000       2.000000      22.000000        317.000000   \n",
       "75%         0.000000       2.000000      34.000000        475.000000   \n",
       "max         1.000000      13.000000      49.000000        634.000000   \n",
       "\n",
       "       initial_list_status   last_pymnt_d   next_pymnt_d  last_credit_pull_d  \\\n",
       "count        235707.000000  235707.000000  235707.000000       235707.000000   \n",
       "mean              0.257307      52.813094      69.275775           48.363668   \n",
       "std               0.437151      28.602329       9.040056           24.040064   \n",
       "min               0.000000       0.000000       0.000000            0.000000   \n",
       "25%               0.000000      24.000000      71.000000           41.000000   \n",
       "50%               0.000000      55.000000      71.000000           41.000000   \n",
       "75%               1.000000      80.000000      71.000000           59.000000   \n",
       "max               1.000000      98.000000      71.000000          102.000000   \n",
       "\n",
       "           emp_years  \n",
       "count  235707.000000  \n",
       "mean        3.204173  \n",
       "std         2.968941  \n",
       "min         0.000000  \n",
       "25%         1.000000  \n",
       "50%         2.000000  \n",
       "75%         5.000000  \n",
       "max        10.000000  \n",
       "\n",
       "[8 rows x 43 columns]"
      ]
     },
     "execution_count": 79,
     "metadata": {},
     "output_type": "execute_result"
    }
   ],
   "source": [
    "df_final.describe()"
   ]
  },
  {
   "cell_type": "code",
   "execution_count": 80,
   "metadata": {},
   "outputs": [
    {
     "data": {
      "text/plain": [
       "(235707, 43)"
      ]
     },
     "execution_count": 80,
     "metadata": {},
     "output_type": "execute_result"
    }
   ],
   "source": [
    "df_final.shape"
   ]
  },
  {
   "cell_type": "code",
   "execution_count": 81,
   "metadata": {},
   "outputs": [
    {
     "data": {
      "text/plain": [
       "(235707, 43)"
      ]
     },
     "execution_count": 81,
     "metadata": {},
     "output_type": "execute_result"
    }
   ],
   "source": [
    "df_final.shape"
   ]
  },
  {
   "cell_type": "code",
   "execution_count": 82,
   "metadata": {},
   "outputs": [],
   "source": [
    "# post default cols\n",
    "#df_final.drop([\"annual_inc_joint\",\"recoveries\"],axis=1,inplace=True)"
   ]
  },
  {
   "cell_type": "code",
   "execution_count": 83,
   "metadata": {},
   "outputs": [
    {
     "data": {
      "text/plain": [
       "loan_amnt                     False\n",
       "funded_amnt                   False\n",
       "funded_amnt_inv               False\n",
       "int_rate                      False\n",
       "installment                   False\n",
       "annual_inc                    False\n",
       "dti                           False\n",
       "delinq_2yrs                    True\n",
       "inq_last_6mths                 True\n",
       "mths_since_last_delinq         True\n",
       "open_acc                       True\n",
       "pub_rec                        True\n",
       "revol_bal                     False\n",
       "revol_util                     True\n",
       "total_acc                      True\n",
       "out_prncp                     False\n",
       "out_prncp_inv                 False\n",
       "total_pymnt                   False\n",
       "total_pymnt_inv               False\n",
       "last_pymnt_amnt               False\n",
       "collections_12_mths_ex_med     True\n",
       "policy_code                   False\n",
       "acc_now_delinq                 True\n",
       "tot_coll_amt                   True\n",
       "tot_cur_bal                    True\n",
       "total_rev_hi_lim               True\n",
       "target                        False\n",
       "term                          False\n",
       "grade                         False\n",
       "sub_grade                     False\n",
       "emp_title                     False\n",
       "home_ownership                False\n",
       "verification_status           False\n",
       "issue_d                       False\n",
       "pymnt_plan                    False\n",
       "purpose                       False\n",
       "addr_state                    False\n",
       "earliest_cr_line              False\n",
       "initial_list_status           False\n",
       "last_pymnt_d                  False\n",
       "next_pymnt_d                  False\n",
       "last_credit_pull_d            False\n",
       "emp_years                     False\n",
       "dtype: bool"
      ]
     },
     "execution_count": 83,
     "metadata": {},
     "output_type": "execute_result"
    }
   ],
   "source": [
    "df_final.isna().any()"
   ]
  },
  {
   "cell_type": "code",
   "execution_count": 84,
   "metadata": {},
   "outputs": [],
   "source": [
    "contains_null = ['delinq_2yrs',\"inq_last_6mths\",\"mths_since_last_delinq\",\"open_acc\",'pub_rec',\"revol_util\",\"total_acc\",\"collections_12_mths_ex_med\",\"acc_now_delinq\",\"tot_coll_amt\",\"tot_cur_bal\",\"total_rev_hi_lim\"]"
   ]
  },
  {
   "cell_type": "code",
   "execution_count": 85,
   "metadata": {},
   "outputs": [
    {
     "data": {
      "text/html": [
       "<div>\n",
       "<style scoped>\n",
       "    .dataframe tbody tr th:only-of-type {\n",
       "        vertical-align: middle;\n",
       "    }\n",
       "\n",
       "    .dataframe tbody tr th {\n",
       "        vertical-align: top;\n",
       "    }\n",
       "\n",
       "    .dataframe thead th {\n",
       "        text-align: right;\n",
       "    }\n",
       "</style>\n",
       "<table border=\"1\" class=\"dataframe\">\n",
       "  <thead>\n",
       "    <tr style=\"text-align: right;\">\n",
       "      <th></th>\n",
       "      <th>delinq_2yrs</th>\n",
       "      <th>inq_last_6mths</th>\n",
       "      <th>mths_since_last_delinq</th>\n",
       "      <th>open_acc</th>\n",
       "      <th>pub_rec</th>\n",
       "      <th>revol_util</th>\n",
       "      <th>total_acc</th>\n",
       "      <th>collections_12_mths_ex_med</th>\n",
       "      <th>acc_now_delinq</th>\n",
       "      <th>tot_coll_amt</th>\n",
       "      <th>tot_cur_bal</th>\n",
       "      <th>total_rev_hi_lim</th>\n",
       "    </tr>\n",
       "  </thead>\n",
       "  <tbody>\n",
       "    <tr>\n",
       "      <th>0</th>\n",
       "      <td>0.0</td>\n",
       "      <td>1.0</td>\n",
       "      <td>NaN</td>\n",
       "      <td>3.0</td>\n",
       "      <td>0.0</td>\n",
       "      <td>83.7</td>\n",
       "      <td>9.0</td>\n",
       "      <td>0.0</td>\n",
       "      <td>0.0</td>\n",
       "      <td>NaN</td>\n",
       "      <td>NaN</td>\n",
       "      <td>NaN</td>\n",
       "    </tr>\n",
       "    <tr>\n",
       "      <th>1</th>\n",
       "      <td>0.0</td>\n",
       "      <td>5.0</td>\n",
       "      <td>NaN</td>\n",
       "      <td>3.0</td>\n",
       "      <td>0.0</td>\n",
       "      <td>9.4</td>\n",
       "      <td>4.0</td>\n",
       "      <td>0.0</td>\n",
       "      <td>0.0</td>\n",
       "      <td>NaN</td>\n",
       "      <td>NaN</td>\n",
       "      <td>NaN</td>\n",
       "    </tr>\n",
       "    <tr>\n",
       "      <th>2</th>\n",
       "      <td>0.0</td>\n",
       "      <td>2.0</td>\n",
       "      <td>NaN</td>\n",
       "      <td>2.0</td>\n",
       "      <td>0.0</td>\n",
       "      <td>98.5</td>\n",
       "      <td>10.0</td>\n",
       "      <td>0.0</td>\n",
       "      <td>0.0</td>\n",
       "      <td>NaN</td>\n",
       "      <td>NaN</td>\n",
       "      <td>NaN</td>\n",
       "    </tr>\n",
       "    <tr>\n",
       "      <th>3</th>\n",
       "      <td>0.0</td>\n",
       "      <td>1.0</td>\n",
       "      <td>35.0</td>\n",
       "      <td>10.0</td>\n",
       "      <td>0.0</td>\n",
       "      <td>21.0</td>\n",
       "      <td>37.0</td>\n",
       "      <td>0.0</td>\n",
       "      <td>0.0</td>\n",
       "      <td>NaN</td>\n",
       "      <td>NaN</td>\n",
       "      <td>NaN</td>\n",
       "    </tr>\n",
       "    <tr>\n",
       "      <th>4</th>\n",
       "      <td>0.0</td>\n",
       "      <td>3.0</td>\n",
       "      <td>NaN</td>\n",
       "      <td>9.0</td>\n",
       "      <td>0.0</td>\n",
       "      <td>28.3</td>\n",
       "      <td>12.0</td>\n",
       "      <td>0.0</td>\n",
       "      <td>0.0</td>\n",
       "      <td>NaN</td>\n",
       "      <td>NaN</td>\n",
       "      <td>NaN</td>\n",
       "    </tr>\n",
       "    <tr>\n",
       "      <th>...</th>\n",
       "      <td>...</td>\n",
       "      <td>...</td>\n",
       "      <td>...</td>\n",
       "      <td>...</td>\n",
       "      <td>...</td>\n",
       "      <td>...</td>\n",
       "      <td>...</td>\n",
       "      <td>...</td>\n",
       "      <td>...</td>\n",
       "      <td>...</td>\n",
       "      <td>...</td>\n",
       "      <td>...</td>\n",
       "    </tr>\n",
       "    <tr>\n",
       "      <th>235702</th>\n",
       "      <td>4.0</td>\n",
       "      <td>0.0</td>\n",
       "      <td>3.0</td>\n",
       "      <td>12.0</td>\n",
       "      <td>0.0</td>\n",
       "      <td>10.7</td>\n",
       "      <td>26.0</td>\n",
       "      <td>0.0</td>\n",
       "      <td>0.0</td>\n",
       "      <td>0.0</td>\n",
       "      <td>116995.0</td>\n",
       "      <td>49800.0</td>\n",
       "    </tr>\n",
       "    <tr>\n",
       "      <th>235703</th>\n",
       "      <td>1.0</td>\n",
       "      <td>0.0</td>\n",
       "      <td>14.0</td>\n",
       "      <td>16.0</td>\n",
       "      <td>0.0</td>\n",
       "      <td>16.3</td>\n",
       "      <td>33.0</td>\n",
       "      <td>0.0</td>\n",
       "      <td>0.0</td>\n",
       "      <td>0.0</td>\n",
       "      <td>42592.0</td>\n",
       "      <td>50300.0</td>\n",
       "    </tr>\n",
       "    <tr>\n",
       "      <th>235704</th>\n",
       "      <td>0.0</td>\n",
       "      <td>0.0</td>\n",
       "      <td>29.0</td>\n",
       "      <td>9.0</td>\n",
       "      <td>0.0</td>\n",
       "      <td>28.8</td>\n",
       "      <td>24.0</td>\n",
       "      <td>0.0</td>\n",
       "      <td>0.0</td>\n",
       "      <td>0.0</td>\n",
       "      <td>10170.0</td>\n",
       "      <td>11100.0</td>\n",
       "    </tr>\n",
       "    <tr>\n",
       "      <th>235705</th>\n",
       "      <td>0.0</td>\n",
       "      <td>5.0</td>\n",
       "      <td>NaN</td>\n",
       "      <td>18.0</td>\n",
       "      <td>1.0</td>\n",
       "      <td>46.3</td>\n",
       "      <td>30.0</td>\n",
       "      <td>0.0</td>\n",
       "      <td>0.0</td>\n",
       "      <td>0.0</td>\n",
       "      <td>221830.0</td>\n",
       "      <td>39400.0</td>\n",
       "    </tr>\n",
       "    <tr>\n",
       "      <th>235706</th>\n",
       "      <td>3.0</td>\n",
       "      <td>1.0</td>\n",
       "      <td>13.0</td>\n",
       "      <td>21.0</td>\n",
       "      <td>0.0</td>\n",
       "      <td>21.5</td>\n",
       "      <td>27.0</td>\n",
       "      <td>0.0</td>\n",
       "      <td>0.0</td>\n",
       "      <td>0.0</td>\n",
       "      <td>591610.0</td>\n",
       "      <td>53100.0</td>\n",
       "    </tr>\n",
       "  </tbody>\n",
       "</table>\n",
       "<p>235707 rows × 12 columns</p>\n",
       "</div>"
      ],
      "text/plain": [
       "        delinq_2yrs  inq_last_6mths  mths_since_last_delinq  open_acc  \\\n",
       "0               0.0             1.0                     NaN       3.0   \n",
       "1               0.0             5.0                     NaN       3.0   \n",
       "2               0.0             2.0                     NaN       2.0   \n",
       "3               0.0             1.0                    35.0      10.0   \n",
       "4               0.0             3.0                     NaN       9.0   \n",
       "...             ...             ...                     ...       ...   \n",
       "235702          4.0             0.0                     3.0      12.0   \n",
       "235703          1.0             0.0                    14.0      16.0   \n",
       "235704          0.0             0.0                    29.0       9.0   \n",
       "235705          0.0             5.0                     NaN      18.0   \n",
       "235706          3.0             1.0                    13.0      21.0   \n",
       "\n",
       "        pub_rec  revol_util  total_acc  collections_12_mths_ex_med  \\\n",
       "0           0.0        83.7        9.0                         0.0   \n",
       "1           0.0         9.4        4.0                         0.0   \n",
       "2           0.0        98.5       10.0                         0.0   \n",
       "3           0.0        21.0       37.0                         0.0   \n",
       "4           0.0        28.3       12.0                         0.0   \n",
       "...         ...         ...        ...                         ...   \n",
       "235702      0.0        10.7       26.0                         0.0   \n",
       "235703      0.0        16.3       33.0                         0.0   \n",
       "235704      0.0        28.8       24.0                         0.0   \n",
       "235705      1.0        46.3       30.0                         0.0   \n",
       "235706      0.0        21.5       27.0                         0.0   \n",
       "\n",
       "        acc_now_delinq  tot_coll_amt  tot_cur_bal  total_rev_hi_lim  \n",
       "0                  0.0           NaN          NaN               NaN  \n",
       "1                  0.0           NaN          NaN               NaN  \n",
       "2                  0.0           NaN          NaN               NaN  \n",
       "3                  0.0           NaN          NaN               NaN  \n",
       "4                  0.0           NaN          NaN               NaN  \n",
       "...                ...           ...          ...               ...  \n",
       "235702             0.0           0.0     116995.0           49800.0  \n",
       "235703             0.0           0.0      42592.0           50300.0  \n",
       "235704             0.0           0.0      10170.0           11100.0  \n",
       "235705             0.0           0.0     221830.0           39400.0  \n",
       "235706             0.0           0.0     591610.0           53100.0  \n",
       "\n",
       "[235707 rows x 12 columns]"
      ]
     },
     "execution_count": 85,
     "metadata": {},
     "output_type": "execute_result"
    }
   ],
   "source": [
    "df_final[contains_null]"
   ]
  },
  {
   "cell_type": "code",
   "execution_count": 86,
   "metadata": {},
   "outputs": [
    {
     "data": {
      "text/html": [
       "<div>\n",
       "<style scoped>\n",
       "    .dataframe tbody tr th:only-of-type {\n",
       "        vertical-align: middle;\n",
       "    }\n",
       "\n",
       "    .dataframe tbody tr th {\n",
       "        vertical-align: top;\n",
       "    }\n",
       "\n",
       "    .dataframe thead th {\n",
       "        text-align: right;\n",
       "    }\n",
       "</style>\n",
       "<table border=\"1\" class=\"dataframe\">\n",
       "  <thead>\n",
       "    <tr style=\"text-align: right;\">\n",
       "      <th></th>\n",
       "      <th>mths_since_last_delinq</th>\n",
       "      <th>tot_coll_amt</th>\n",
       "      <th>tot_cur_bal</th>\n",
       "      <th>total_rev_hi_lim</th>\n",
       "      <th>collections_12_mths_ex_med</th>\n",
       "      <th>revol_util</th>\n",
       "    </tr>\n",
       "  </thead>\n",
       "  <tbody>\n",
       "    <tr>\n",
       "      <th>0</th>\n",
       "      <td>NaN</td>\n",
       "      <td>NaN</td>\n",
       "      <td>NaN</td>\n",
       "      <td>NaN</td>\n",
       "      <td>0.0</td>\n",
       "      <td>83.7</td>\n",
       "    </tr>\n",
       "    <tr>\n",
       "      <th>1</th>\n",
       "      <td>NaN</td>\n",
       "      <td>NaN</td>\n",
       "      <td>NaN</td>\n",
       "      <td>NaN</td>\n",
       "      <td>0.0</td>\n",
       "      <td>9.4</td>\n",
       "    </tr>\n",
       "    <tr>\n",
       "      <th>2</th>\n",
       "      <td>NaN</td>\n",
       "      <td>NaN</td>\n",
       "      <td>NaN</td>\n",
       "      <td>NaN</td>\n",
       "      <td>0.0</td>\n",
       "      <td>98.5</td>\n",
       "    </tr>\n",
       "    <tr>\n",
       "      <th>3</th>\n",
       "      <td>35.0</td>\n",
       "      <td>NaN</td>\n",
       "      <td>NaN</td>\n",
       "      <td>NaN</td>\n",
       "      <td>0.0</td>\n",
       "      <td>21.0</td>\n",
       "    </tr>\n",
       "    <tr>\n",
       "      <th>4</th>\n",
       "      <td>NaN</td>\n",
       "      <td>NaN</td>\n",
       "      <td>NaN</td>\n",
       "      <td>NaN</td>\n",
       "      <td>0.0</td>\n",
       "      <td>28.3</td>\n",
       "    </tr>\n",
       "    <tr>\n",
       "      <th>...</th>\n",
       "      <td>...</td>\n",
       "      <td>...</td>\n",
       "      <td>...</td>\n",
       "      <td>...</td>\n",
       "      <td>...</td>\n",
       "      <td>...</td>\n",
       "    </tr>\n",
       "    <tr>\n",
       "      <th>235702</th>\n",
       "      <td>3.0</td>\n",
       "      <td>0.0</td>\n",
       "      <td>116995.0</td>\n",
       "      <td>49800.0</td>\n",
       "      <td>0.0</td>\n",
       "      <td>10.7</td>\n",
       "    </tr>\n",
       "    <tr>\n",
       "      <th>235703</th>\n",
       "      <td>14.0</td>\n",
       "      <td>0.0</td>\n",
       "      <td>42592.0</td>\n",
       "      <td>50300.0</td>\n",
       "      <td>0.0</td>\n",
       "      <td>16.3</td>\n",
       "    </tr>\n",
       "    <tr>\n",
       "      <th>235704</th>\n",
       "      <td>29.0</td>\n",
       "      <td>0.0</td>\n",
       "      <td>10170.0</td>\n",
       "      <td>11100.0</td>\n",
       "      <td>0.0</td>\n",
       "      <td>28.8</td>\n",
       "    </tr>\n",
       "    <tr>\n",
       "      <th>235705</th>\n",
       "      <td>NaN</td>\n",
       "      <td>0.0</td>\n",
       "      <td>221830.0</td>\n",
       "      <td>39400.0</td>\n",
       "      <td>0.0</td>\n",
       "      <td>46.3</td>\n",
       "    </tr>\n",
       "    <tr>\n",
       "      <th>235706</th>\n",
       "      <td>13.0</td>\n",
       "      <td>0.0</td>\n",
       "      <td>591610.0</td>\n",
       "      <td>53100.0</td>\n",
       "      <td>0.0</td>\n",
       "      <td>21.5</td>\n",
       "    </tr>\n",
       "  </tbody>\n",
       "</table>\n",
       "<p>235707 rows × 6 columns</p>\n",
       "</div>"
      ],
      "text/plain": [
       "        mths_since_last_delinq  tot_coll_amt  tot_cur_bal  total_rev_hi_lim  \\\n",
       "0                          NaN           NaN          NaN               NaN   \n",
       "1                          NaN           NaN          NaN               NaN   \n",
       "2                          NaN           NaN          NaN               NaN   \n",
       "3                         35.0           NaN          NaN               NaN   \n",
       "4                          NaN           NaN          NaN               NaN   \n",
       "...                        ...           ...          ...               ...   \n",
       "235702                     3.0           0.0     116995.0           49800.0   \n",
       "235703                    14.0           0.0      42592.0           50300.0   \n",
       "235704                    29.0           0.0      10170.0           11100.0   \n",
       "235705                     NaN           0.0     221830.0           39400.0   \n",
       "235706                    13.0           0.0     591610.0           53100.0   \n",
       "\n",
       "        collections_12_mths_ex_med  revol_util  \n",
       "0                              0.0        83.7  \n",
       "1                              0.0         9.4  \n",
       "2                              0.0        98.5  \n",
       "3                              0.0        21.0  \n",
       "4                              0.0        28.3  \n",
       "...                            ...         ...  \n",
       "235702                         0.0        10.7  \n",
       "235703                         0.0        16.3  \n",
       "235704                         0.0        28.8  \n",
       "235705                         0.0        46.3  \n",
       "235706                         0.0        21.5  \n",
       "\n",
       "[235707 rows x 6 columns]"
      ]
     },
     "execution_count": 86,
     "metadata": {},
     "output_type": "execute_result"
    }
   ],
   "source": [
    "df_final[[\"mths_since_last_delinq\",\"tot_coll_amt\",\"tot_cur_bal\",\"total_rev_hi_lim\",\"collections_12_mths_ex_med\",\"revol_util\"]]"
   ]
  },
  {
   "cell_type": "code",
   "execution_count": 87,
   "metadata": {},
   "outputs": [],
   "source": [
    "df_final[contains_null].min().min()\n",
    "df_final=df_final.fillna(-999)"
   ]
  },
  {
   "cell_type": "code",
   "execution_count": 88,
   "metadata": {},
   "outputs": [
    {
     "data": {
      "text/plain": [
       "loan_amnt                     0\n",
       "funded_amnt                   0\n",
       "funded_amnt_inv               0\n",
       "int_rate                      0\n",
       "installment                   0\n",
       "annual_inc                    0\n",
       "dti                           0\n",
       "delinq_2yrs                   0\n",
       "inq_last_6mths                0\n",
       "mths_since_last_delinq        0\n",
       "open_acc                      0\n",
       "pub_rec                       0\n",
       "revol_bal                     0\n",
       "revol_util                    0\n",
       "total_acc                     0\n",
       "out_prncp                     0\n",
       "out_prncp_inv                 0\n",
       "total_pymnt                   0\n",
       "total_pymnt_inv               0\n",
       "last_pymnt_amnt               0\n",
       "collections_12_mths_ex_med    0\n",
       "policy_code                   0\n",
       "acc_now_delinq                0\n",
       "tot_coll_amt                  0\n",
       "tot_cur_bal                   0\n",
       "total_rev_hi_lim              0\n",
       "target                        0\n",
       "term                          0\n",
       "grade                         0\n",
       "sub_grade                     0\n",
       "emp_title                     0\n",
       "home_ownership                0\n",
       "verification_status           0\n",
       "issue_d                       0\n",
       "pymnt_plan                    0\n",
       "purpose                       0\n",
       "addr_state                    0\n",
       "earliest_cr_line              0\n",
       "initial_list_status           0\n",
       "last_pymnt_d                  0\n",
       "next_pymnt_d                  0\n",
       "last_credit_pull_d            0\n",
       "emp_years                     0\n",
       "dtype: int64"
      ]
     },
     "execution_count": 88,
     "metadata": {},
     "output_type": "execute_result"
    }
   ],
   "source": [
    "df_final.isnull().sum()"
   ]
  },
  {
   "cell_type": "code",
   "execution_count": 89,
   "metadata": {},
   "outputs": [
    {
     "data": {
      "text/plain": [
       "\"from sklearn.model_selection import train_test_split\\nX_train, X_test, y_train, y_test = train_test_split(df_final.drop(columns=['target']), df_final['target'], test_size=0.33, random_state=42)\""
      ]
     },
     "execution_count": 89,
     "metadata": {},
     "output_type": "execute_result"
    }
   ],
   "source": [
    "'''from sklearn.model_selection import train_test_split\n",
    "X_train, X_test, y_train, y_test = train_test_split(df_final.drop(columns=['target']), df_final['target'], test_size=0.33, random_state=42)'''"
   ]
  },
  {
   "cell_type": "code",
   "execution_count": null,
   "metadata": {},
   "outputs": [],
   "source": []
  },
  {
   "cell_type": "code",
   "execution_count": 90,
   "metadata": {},
   "outputs": [],
   "source": [
    "X = df_final.drop('target', axis = 1)\n",
    "y = df_final['target']\n",
    "X_train, X_test, y_train, y_test = train_test_split(X, y, test_size = 0.2, random_state = 42, stratify = y)\n",
    "\n",
    "X_train, X_test = X_train.copy(), X_test.copy()"
   ]
  },
  {
   "cell_type": "code",
   "execution_count": 91,
   "metadata": {},
   "outputs": [],
   "source": [
    "df_temp = X_train.copy()\n",
    "ret_bins = pd.DataFrame()\n",
    "for col in df_temp[df_temp.columns[~df_temp.columns.isin(contains_null)]].columns:\n",
    "    df_temp[col] = pd.qcut(df_temp[col], 7, duplicates='drop')"
   ]
  },
  {
   "cell_type": "code",
   "execution_count": 92,
   "metadata": {},
   "outputs": [],
   "source": [
    "import numpy as np\n",
    "dict_recat2 = {}\n",
    "for var in df_temp[df_temp.columns[~df_temp.columns.isin(contains_null)]].columns:\n",
    "    lb_make2 = preprocessing.LabelEncoder()\n",
    "    df_temp[var] = lb_make2.fit_transform(df_temp[var])\n",
    "    mapping2 = dict(zip(lb_make2.classes_, range(len(lb_make2.classes_))))\n",
    "    #print(mapping2)\n",
    "    dict_recat2.update({var : np.array([*mapping2])})"
   ]
  },
  {
   "cell_type": "code",
   "execution_count": 93,
   "metadata": {},
   "outputs": [],
   "source": [
    "bins=[]"
   ]
  },
  {
   "cell_type": "code",
   "execution_count": 94,
   "metadata": {},
   "outputs": [
    {
     "name": "stdout",
     "output_type": "stream",
     "text": [
      "[-999.    0.    1.   29.]\n",
      "[-1000.0, 0.0, 1.0, 29.0]\n",
      "[-999.    0.    1.    2.   33.]\n",
      "[-1000.0, 0.0, 1.0, 2.0, 33.0]\n",
      "[-999.    3.   22.   45.  152.]\n",
      "[-1000.0, 3.0, 22.0, 45.0, 152.0]\n",
      "[-999.    6.    8.    9.   11.   13.   16.   76.]\n",
      "[-1000.0, 6.0, 8.0, 9.0, 11.0, 13.0, 16.0, 76.0]\n",
      "[-999.    0.   11.]\n",
      "[-1000.0, 0.0, 11.0]\n",
      "[-999.    25.9   40.4   51.5   61.6   71.7   83.1  892.3]\n",
      "[-1000.0, 25.9, 40.4, 51.5, 61.6, 71.7, 83.1, 892.3]\n",
      "[-999.   13.   17.   21.   25.   30.   37.  118.]\n",
      "[-1000.0, 13.0, 17.0, 21.0, 25.0, 30.0, 37.0, 118.0]\n",
      "[-999.    0.    5.]\n",
      "[-1000.0, 0.0, 5.0]\n",
      "[-999.    0.    5.]\n",
      "[-1000.0, 0.0, 5.0]\n",
      "[-9.990000e+02  0.000000e+00  9.152545e+06]\n",
      "[-1000.0, 0.0, 9152545.0]\n",
      "[-9.99000000e+02  4.46300000e+03  2.42731429e+04  5.06408571e+04\n",
      "  1.34194571e+05  2.39110857e+05  8.00007800e+06]\n",
      "[-1000.0, 4463.0, 24273.142857142855, 50640.85714285713, 134194.57142857136, 239110.85714285713, 8000078.0]\n",
      "[-9.990000e+02  3.800000e+03  1.200000e+04  1.860000e+04  2.700000e+04\n",
      "  4.120000e+04  2.013133e+06]\n",
      "[-1000.0, 3800.0, 12000.0, 18600.0, 27000.0, 41200.0, 2013133.0]\n"
     ]
    }
   ],
   "source": [
    "df_temp = X_train.copy()\n",
    "ret_bins = pd.DataFrame()\n",
    "for col in contains_null:\n",
    "    temp, bins = pd.qcut(df_temp[col], 7, duplicates='drop', retbins=True)\n",
    "    #bins=list(bins)\n",
    "    print(bins)\n",
    "   # bins.insert(1, -1.0)\n",
    "    bins = [-1000.0 if x==-999.0 else x for x in bins]\n",
    "    print(bins)\n",
    "    df_temp[col] = pd.cut(df_temp[col], bins, duplicates='drop')"
   ]
  },
  {
   "cell_type": "code",
   "execution_count": 95,
   "metadata": {},
   "outputs": [],
   "source": [
    "import numpy as np\n",
    "dict_recat3 = {}\n",
    "for var in contains_null:\n",
    "    lb_make3 = preprocessing.LabelEncoder()\n",
    "    df_temp[var] = lb_make3.fit_transform(df_temp[var])\n",
    "    mapping3 = dict(zip(lb_make3.classes_, range(len(lb_make3.classes_))))\n",
    "    #print(mapping3)\n",
    "    dict_recat3.update({var : np.array([*mapping3])})"
   ]
  },
  {
   "cell_type": "code",
   "execution_count": 96,
   "metadata": {},
   "outputs": [],
   "source": [
    "from sklearn.linear_model import LogisticRegression\n",
    "clf = LogisticRegression(random_state=0).fit(df_temp, y_train)"
   ]
  },
  {
   "cell_type": "code",
   "execution_count": 97,
   "metadata": {},
   "outputs": [
    {
     "data": {
      "text/plain": [
       "array([[1.85845415e-03, 9.98141546e-01],\n",
       "       [4.90828597e-07, 9.99999509e-01],\n",
       "       [1.07222742e-09, 9.99999999e-01],\n",
       "       ...,\n",
       "       [9.99999915e-01, 8.51988930e-08],\n",
       "       [1.12045497e-05, 9.99988795e-01],\n",
       "       [1.16972213e-06, 9.99998830e-01]])"
      ]
     },
     "execution_count": 97,
     "metadata": {},
     "output_type": "execute_result"
    }
   ],
   "source": [
    "clf.predict_proba(X_train)"
   ]
  },
  {
   "cell_type": "code",
   "execution_count": 98,
   "metadata": {},
   "outputs": [
    {
     "data": {
      "text/plain": [
       "(0.9957372820078023, 0.9957380356548673)"
      ]
     },
     "execution_count": 98,
     "metadata": {},
     "output_type": "execute_result"
    }
   ],
   "source": [
    "roc_auc_score(y_train, clf.predict_proba(X_train)[:, 1]), roc_auc_score(y_train, clf.decision_function(X_train))"
   ]
  },
  {
   "cell_type": "code",
   "execution_count": 99,
   "metadata": {},
   "outputs": [
    {
     "data": {
      "text/plain": [
       "array([[1.09083358e-04, 9.99890917e-01],\n",
       "       [1.00000000e+00, 7.51104960e-15],\n",
       "       [9.99999429e-01, 5.70891950e-07],\n",
       "       ...,\n",
       "       [9.95108997e-01, 4.89100265e-03],\n",
       "       [3.04082341e-05, 9.99969592e-01],\n",
       "       [2.22044605e-16, 1.00000000e+00]])"
      ]
     },
     "execution_count": 99,
     "metadata": {},
     "output_type": "execute_result"
    }
   ],
   "source": [
    "clf.predict_proba(X_test)"
   ]
  },
  {
   "cell_type": "code",
   "execution_count": 100,
   "metadata": {},
   "outputs": [
    {
     "data": {
      "text/plain": [
       "(0.9956506807875257, 0.9956517029623145)"
      ]
     },
     "execution_count": 100,
     "metadata": {},
     "output_type": "execute_result"
    }
   ],
   "source": [
    "roc_auc_score(y_test, clf.predict_proba(X_test)[:, 1]), roc_auc_score(y_test, clf.decision_function(X_test))"
   ]
  },
  {
   "cell_type": "code",
   "execution_count": null,
   "metadata": {},
   "outputs": [],
   "source": []
  }
 ],
 "metadata": {
  "instance_type": "ml.t3.medium",
  "kernelspec": {
   "display_name": "Python 3 (Base Python)",
   "language": "python",
   "name": "python3__SAGEMAKER_INTERNAL__arn:aws:sagemaker:ap-south-1:394103062818:image/python-3.6"
  },
  "language_info": {
   "codemirror_mode": {
    "name": "ipython",
    "version": 3
   },
   "file_extension": ".py",
   "mimetype": "text/x-python",
   "name": "python",
   "nbconvert_exporter": "python",
   "pygments_lexer": "ipython3",
   "version": "3.6.13"
  }
 },
 "nbformat": 4,
 "nbformat_minor": 5
}
